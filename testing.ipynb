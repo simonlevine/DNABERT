{
 "metadata": {
  "language_info": {
   "codemirror_mode": {
    "name": "ipython",
    "version": 3
   },
   "file_extension": ".py",
   "mimetype": "text/x-python",
   "name": "python",
   "nbconvert_exporter": "python",
   "pygments_lexer": "ipython3",
   "version": "3.8.8"
  },
  "orig_nbformat": 4,
  "kernelspec": {
   "name": "python3",
   "display_name": "Python 3.8.8 64-bit ('base': conda)"
  },
  "interpreter": {
   "hash": "dca0ade3e726a953b501b15e8e990130d2b7799f14cfd9f4271676035ebe5511"
  }
 },
 "nbformat": 4,
 "nbformat_minor": 2,
 "cells": [
  {
   "source": [
    "Download the data...\n",
    "\n",
    "- https://osf.io/fqm7x/download/"
   ],
   "cell_type": "markdown",
   "metadata": {}
  },
  {
   "cell_type": "code",
   "execution_count": 59,
   "metadata": {},
   "outputs": [
    {
     "output_type": "execute_result",
     "data": {
      "text/plain": [
       "        peakid    chr      start        end                         anno  \\\n",
       "3336  peak3337  chr19    8631775    8631975  tested_uncharacterized_CREs   \n",
       "370    peak371   chr1  113408175  113408375  tested_uncharacterized_CREs   \n",
       "4086  peak4087   chr2  234276376  234276576  tested_uncharacterized_CREs   \n",
       "2883  peak2884  chr17   47401936   47402136  tested_uncharacterized_CREs   \n",
       "2850  peak2851  chr17   41121376   41121576  tested_uncharacterized_CREs   \n",
       "...        ...    ...        ...        ...                          ...   \n",
       "921    peak922  chr10   32837196   32837396  tested_uncharacterized_CREs   \n",
       "6876  peak6877   chr7  157726195  157726395  tested_uncharacterized_CREs   \n",
       "6156  peak6157   chr6  140075755  140075955  tested_uncharacterized_CREs   \n",
       "1170  peak1171  chr11    3319156    3319356  tested_uncharacterized_CREs   \n",
       "3780  peak3781   chr2   86922256   86922456  tested_uncharacterized_CREs   \n",
       "\n",
       "        log2FC         P-val     adj.P-val    repressor_status  \\\n",
       "3336 -8.619535  8.083598e-53  9.069733e-50     known_repressor   \n",
       "370  -8.556838  8.220468e-53  9.069733e-50     known_repressor   \n",
       "4086 -8.453036  8.458711e-53  9.069733e-50  no_known_repressor   \n",
       "2883 -8.111884  9.451333e-53  9.069733e-50  no_known_repressor   \n",
       "2850 -8.086608  9.524018e-53  9.069733e-50  no_known_repressor   \n",
       "...        ...           ...           ...                 ...   \n",
       "921   2.057311  1.000000e+00  1.000000e+00  no_known_repressor   \n",
       "6876  2.093301  1.000000e+00  1.000000e+00     known_repressor   \n",
       "6156  2.093681  9.999999e-01  1.000000e+00     known_repressor   \n",
       "1170  2.159843  1.000000e+00  1.000000e+00  no_known_repressor   \n",
       "3780  2.405457  1.000000e+00  1.000000e+00  no_known_repressor   \n",
       "\n",
       "     MPRA_validated_silencer  y  \n",
       "3336                     YES  1  \n",
       "370                      YES  1  \n",
       "4086                     YES  1  \n",
       "2883                     YES  1  \n",
       "2850                     YES  1  \n",
       "...                      ... ..  \n",
       "921                       NO  0  \n",
       "6876                      NO  0  \n",
       "6156                      NO  0  \n",
       "1170                      NO  0  \n",
       "3780                      NO  0  \n",
       "\n",
       "[7232 rows x 11 columns]"
      ],
      "text/html": "<div>\n<style scoped>\n    .dataframe tbody tr th:only-of-type {\n        vertical-align: middle;\n    }\n\n    .dataframe tbody tr th {\n        vertical-align: top;\n    }\n\n    .dataframe thead th {\n        text-align: right;\n    }\n</style>\n<table border=\"1\" class=\"dataframe\">\n  <thead>\n    <tr style=\"text-align: right;\">\n      <th></th>\n      <th>peakid</th>\n      <th>chr</th>\n      <th>start</th>\n      <th>end</th>\n      <th>anno</th>\n      <th>log2FC</th>\n      <th>P-val</th>\n      <th>adj.P-val</th>\n      <th>repressor_status</th>\n      <th>MPRA_validated_silencer</th>\n      <th>y</th>\n    </tr>\n  </thead>\n  <tbody>\n    <tr>\n      <th>3336</th>\n      <td>peak3337</td>\n      <td>chr19</td>\n      <td>8631775</td>\n      <td>8631975</td>\n      <td>tested_uncharacterized_CREs</td>\n      <td>-8.619535</td>\n      <td>8.083598e-53</td>\n      <td>9.069733e-50</td>\n      <td>known_repressor</td>\n      <td>YES</td>\n      <td>1</td>\n    </tr>\n    <tr>\n      <th>370</th>\n      <td>peak371</td>\n      <td>chr1</td>\n      <td>113408175</td>\n      <td>113408375</td>\n      <td>tested_uncharacterized_CREs</td>\n      <td>-8.556838</td>\n      <td>8.220468e-53</td>\n      <td>9.069733e-50</td>\n      <td>known_repressor</td>\n      <td>YES</td>\n      <td>1</td>\n    </tr>\n    <tr>\n      <th>4086</th>\n      <td>peak4087</td>\n      <td>chr2</td>\n      <td>234276376</td>\n      <td>234276576</td>\n      <td>tested_uncharacterized_CREs</td>\n      <td>-8.453036</td>\n      <td>8.458711e-53</td>\n      <td>9.069733e-50</td>\n      <td>no_known_repressor</td>\n      <td>YES</td>\n      <td>1</td>\n    </tr>\n    <tr>\n      <th>2883</th>\n      <td>peak2884</td>\n      <td>chr17</td>\n      <td>47401936</td>\n      <td>47402136</td>\n      <td>tested_uncharacterized_CREs</td>\n      <td>-8.111884</td>\n      <td>9.451333e-53</td>\n      <td>9.069733e-50</td>\n      <td>no_known_repressor</td>\n      <td>YES</td>\n      <td>1</td>\n    </tr>\n    <tr>\n      <th>2850</th>\n      <td>peak2851</td>\n      <td>chr17</td>\n      <td>41121376</td>\n      <td>41121576</td>\n      <td>tested_uncharacterized_CREs</td>\n      <td>-8.086608</td>\n      <td>9.524018e-53</td>\n      <td>9.069733e-50</td>\n      <td>no_known_repressor</td>\n      <td>YES</td>\n      <td>1</td>\n    </tr>\n    <tr>\n      <th>...</th>\n      <td>...</td>\n      <td>...</td>\n      <td>...</td>\n      <td>...</td>\n      <td>...</td>\n      <td>...</td>\n      <td>...</td>\n      <td>...</td>\n      <td>...</td>\n      <td>...</td>\n      <td>...</td>\n    </tr>\n    <tr>\n      <th>921</th>\n      <td>peak922</td>\n      <td>chr10</td>\n      <td>32837196</td>\n      <td>32837396</td>\n      <td>tested_uncharacterized_CREs</td>\n      <td>2.057311</td>\n      <td>1.000000e+00</td>\n      <td>1.000000e+00</td>\n      <td>no_known_repressor</td>\n      <td>NO</td>\n      <td>0</td>\n    </tr>\n    <tr>\n      <th>6876</th>\n      <td>peak6877</td>\n      <td>chr7</td>\n      <td>157726195</td>\n      <td>157726395</td>\n      <td>tested_uncharacterized_CREs</td>\n      <td>2.093301</td>\n      <td>1.000000e+00</td>\n      <td>1.000000e+00</td>\n      <td>known_repressor</td>\n      <td>NO</td>\n      <td>0</td>\n    </tr>\n    <tr>\n      <th>6156</th>\n      <td>peak6157</td>\n      <td>chr6</td>\n      <td>140075755</td>\n      <td>140075955</td>\n      <td>tested_uncharacterized_CREs</td>\n      <td>2.093681</td>\n      <td>9.999999e-01</td>\n      <td>1.000000e+00</td>\n      <td>known_repressor</td>\n      <td>NO</td>\n      <td>0</td>\n    </tr>\n    <tr>\n      <th>1170</th>\n      <td>peak1171</td>\n      <td>chr11</td>\n      <td>3319156</td>\n      <td>3319356</td>\n      <td>tested_uncharacterized_CREs</td>\n      <td>2.159843</td>\n      <td>1.000000e+00</td>\n      <td>1.000000e+00</td>\n      <td>no_known_repressor</td>\n      <td>NO</td>\n      <td>0</td>\n    </tr>\n    <tr>\n      <th>3780</th>\n      <td>peak3781</td>\n      <td>chr2</td>\n      <td>86922256</td>\n      <td>86922456</td>\n      <td>tested_uncharacterized_CREs</td>\n      <td>2.405457</td>\n      <td>1.000000e+00</td>\n      <td>1.000000e+00</td>\n      <td>no_known_repressor</td>\n      <td>NO</td>\n      <td>0</td>\n    </tr>\n  </tbody>\n</table>\n<p>7232 rows × 11 columns</p>\n</div>"
     },
     "metadata": {},
     "execution_count": 59
    }
   ],
   "source": [
    "import pandas as pd\n",
    "import numpy as np\n",
    "\n",
    "s2_df = pd.read_excel('data/jayavulu/Supplementary_Table2.xlsx')\n",
    "s2_df = s2_df.sort_values('log2FC').dropna(subset=['log2FC'])\n",
    "s2_df = s2_df[s2_df['anno']=='tested_uncharacterized_CREs']\n",
    "s2_df['y']=np.where(s2_df['MPRA_validated_silencer']=='YES',1,0)\n",
    "s2_df"
   ]
  },
  {
   "source": [
    "Will first try classification (can return to log2FC later).\n",
    "- using `MPRA_validated_silencer` as label."
   ],
   "cell_type": "markdown",
   "metadata": {}
  },
  {
   "cell_type": "code",
   "execution_count": 60,
   "metadata": {},
   "outputs": [
    {
     "output_type": "execute_result",
     "data": {
      "text/plain": [
       "        chr      start        end  y\n",
       "3336  chr19    8631775    8631975  1\n",
       "370    chr1  113408175  113408375  1\n",
       "4086   chr2  234276376  234276576  1\n",
       "2883  chr17   47401936   47402136  1\n",
       "2850  chr17   41121376   41121576  1\n",
       "...     ...        ...        ... ..\n",
       "921   chr10   32837196   32837396  0\n",
       "6876   chr7  157726195  157726395  0\n",
       "6156   chr6  140075755  140075955  0\n",
       "1170  chr11    3319156    3319356  0\n",
       "3780   chr2   86922256   86922456  0\n",
       "\n",
       "[7232 rows x 4 columns]"
      ],
      "text/html": "<div>\n<style scoped>\n    .dataframe tbody tr th:only-of-type {\n        vertical-align: middle;\n    }\n\n    .dataframe tbody tr th {\n        vertical-align: top;\n    }\n\n    .dataframe thead th {\n        text-align: right;\n    }\n</style>\n<table border=\"1\" class=\"dataframe\">\n  <thead>\n    <tr style=\"text-align: right;\">\n      <th></th>\n      <th>chr</th>\n      <th>start</th>\n      <th>end</th>\n      <th>y</th>\n    </tr>\n  </thead>\n  <tbody>\n    <tr>\n      <th>3336</th>\n      <td>chr19</td>\n      <td>8631775</td>\n      <td>8631975</td>\n      <td>1</td>\n    </tr>\n    <tr>\n      <th>370</th>\n      <td>chr1</td>\n      <td>113408175</td>\n      <td>113408375</td>\n      <td>1</td>\n    </tr>\n    <tr>\n      <th>4086</th>\n      <td>chr2</td>\n      <td>234276376</td>\n      <td>234276576</td>\n      <td>1</td>\n    </tr>\n    <tr>\n      <th>2883</th>\n      <td>chr17</td>\n      <td>47401936</td>\n      <td>47402136</td>\n      <td>1</td>\n    </tr>\n    <tr>\n      <th>2850</th>\n      <td>chr17</td>\n      <td>41121376</td>\n      <td>41121576</td>\n      <td>1</td>\n    </tr>\n    <tr>\n      <th>...</th>\n      <td>...</td>\n      <td>...</td>\n      <td>...</td>\n      <td>...</td>\n    </tr>\n    <tr>\n      <th>921</th>\n      <td>chr10</td>\n      <td>32837196</td>\n      <td>32837396</td>\n      <td>0</td>\n    </tr>\n    <tr>\n      <th>6876</th>\n      <td>chr7</td>\n      <td>157726195</td>\n      <td>157726395</td>\n      <td>0</td>\n    </tr>\n    <tr>\n      <th>6156</th>\n      <td>chr6</td>\n      <td>140075755</td>\n      <td>140075955</td>\n      <td>0</td>\n    </tr>\n    <tr>\n      <th>1170</th>\n      <td>chr11</td>\n      <td>3319156</td>\n      <td>3319356</td>\n      <td>0</td>\n    </tr>\n    <tr>\n      <th>3780</th>\n      <td>chr2</td>\n      <td>86922256</td>\n      <td>86922456</td>\n      <td>0</td>\n    </tr>\n  </tbody>\n</table>\n<p>7232 rows × 4 columns</p>\n</div>"
     },
     "metadata": {},
     "execution_count": 60
    }
   ],
   "source": [
    "# fa_cmd = f'bedtools getfasta -fi {assm_fa} ' + \\\n",
    "#     f'-bed {input_bed}.bed -fo {input_bed}.fa -nameOnly'\n",
    "\n",
    "s2_df = s2_df.drop(['peakid','anno','log2FC','P-val', 'adj.P-val','repressor_status','MPRA_validated_silencer'],axis=1)\n",
    "s2_df"
   ]
  },
  {
   "cell_type": "code",
   "execution_count": 61,
   "metadata": {},
   "outputs": [],
   "source": [
    "from tqdm._tqdm_notebook import tqdm_notebook\n",
    "import pybedtools"
   ]
  },
  {
   "source": [
    "Now, generating sequences from BED columns..."
   ],
   "cell_type": "markdown",
   "metadata": {}
  },
  {
   "cell_type": "code",
   "execution_count": 27,
   "metadata": {},
   "outputs": [
    {
     "output_type": "display_data",
     "data": {
      "text/plain": "Generating sequences...:   0%|          | 0/193 [00:00<?, ?it/s]",
      "application/vnd.jupyter.widget-view+json": {
       "version_major": 2,
       "version_minor": 0,
       "model_id": "539789dc88ad486c9f4c5ea832ba6fb0"
      }
     },
     "metadata": {}
    },
    {
     "output_type": "execute_result",
     "data": {
      "text/plain": [
       "        chr      start        end  y  \\\n",
       "874   chr10   15538675   15538875  1   \n",
       "6544   chr7   65700135   65700335  1   \n",
       "5172   chr5   19179836   19180036  1   \n",
       "3856   chr2  128552496  128552696  1   \n",
       "594    chr1  191158116  191158316  1   \n",
       "...     ...        ...        ... ..   \n",
       "1345  chr11   72673226   72673426  0   \n",
       "3265  chr19    4081456    4081656  0   \n",
       "2400  chr15   82477395   82477595  0   \n",
       "4568   chr3   20649636   20649836  0   \n",
       "2183  chr14   69040615   69040815  0   \n",
       "\n",
       "                                                    seq  \n",
       "874   tgagtagctgggataacaggtgtgcagcactataacaggaaatttt...  \n",
       "6544  gtcttttaacataatggatgcaatgttctgcaTAGAtttttttttt...  \n",
       "5172  ACTGTCACCAGTGATTAAGACCTACAAGTAAGACCAGTTCGTGCCT...  \n",
       "3856  ctgaggcgggaggatcacttgagcccagtagttcaagtcctgagca...  \n",
       "594   tatcatctccatactacagtccaaaatgtagaaatcaggtgtcagc...  \n",
       "...                                                 ...  \n",
       "1345  tggggtcaaagttatttttataatactaagacattgtctgcccttt...  \n",
       "3265  CAGGGTTCCACATTCAGGATCTCCTCTTTCCTCAGCCCACCTGGCT...  \n",
       "2400  GGATTTTGTCTGTTAGAGACAAAGTTAAGTTTTGACTATTTACAAA...  \n",
       "4568  tggaaacagacttggggctgttgaggggagggggcacagtgggagt...  \n",
       "2183  ATGAGTATGGGCTGAGCTTGAGCTTTTGTTCTCATTGACTGCtgtg...  \n",
       "\n",
       "[193 rows x 5 columns]"
      ],
      "text/html": "<div>\n<style scoped>\n    .dataframe tbody tr th:only-of-type {\n        vertical-align: middle;\n    }\n\n    .dataframe tbody tr th {\n        vertical-align: top;\n    }\n\n    .dataframe thead th {\n        text-align: right;\n    }\n</style>\n<table border=\"1\" class=\"dataframe\">\n  <thead>\n    <tr style=\"text-align: right;\">\n      <th></th>\n      <th>chr</th>\n      <th>start</th>\n      <th>end</th>\n      <th>y</th>\n      <th>seq</th>\n    </tr>\n  </thead>\n  <tbody>\n    <tr>\n      <th>874</th>\n      <td>chr10</td>\n      <td>15538675</td>\n      <td>15538875</td>\n      <td>1</td>\n      <td>tgagtagctgggataacaggtgtgcagcactataacaggaaatttt...</td>\n    </tr>\n    <tr>\n      <th>6544</th>\n      <td>chr7</td>\n      <td>65700135</td>\n      <td>65700335</td>\n      <td>1</td>\n      <td>gtcttttaacataatggatgcaatgttctgcaTAGAtttttttttt...</td>\n    </tr>\n    <tr>\n      <th>5172</th>\n      <td>chr5</td>\n      <td>19179836</td>\n      <td>19180036</td>\n      <td>1</td>\n      <td>ACTGTCACCAGTGATTAAGACCTACAAGTAAGACCAGTTCGTGCCT...</td>\n    </tr>\n    <tr>\n      <th>3856</th>\n      <td>chr2</td>\n      <td>128552496</td>\n      <td>128552696</td>\n      <td>1</td>\n      <td>ctgaggcgggaggatcacttgagcccagtagttcaagtcctgagca...</td>\n    </tr>\n    <tr>\n      <th>594</th>\n      <td>chr1</td>\n      <td>191158116</td>\n      <td>191158316</td>\n      <td>1</td>\n      <td>tatcatctccatactacagtccaaaatgtagaaatcaggtgtcagc...</td>\n    </tr>\n    <tr>\n      <th>...</th>\n      <td>...</td>\n      <td>...</td>\n      <td>...</td>\n      <td>...</td>\n      <td>...</td>\n    </tr>\n    <tr>\n      <th>1345</th>\n      <td>chr11</td>\n      <td>72673226</td>\n      <td>72673426</td>\n      <td>0</td>\n      <td>tggggtcaaagttatttttataatactaagacattgtctgcccttt...</td>\n    </tr>\n    <tr>\n      <th>3265</th>\n      <td>chr19</td>\n      <td>4081456</td>\n      <td>4081656</td>\n      <td>0</td>\n      <td>CAGGGTTCCACATTCAGGATCTCCTCTTTCCTCAGCCCACCTGGCT...</td>\n    </tr>\n    <tr>\n      <th>2400</th>\n      <td>chr15</td>\n      <td>82477395</td>\n      <td>82477595</td>\n      <td>0</td>\n      <td>GGATTTTGTCTGTTAGAGACAAAGTTAAGTTTTGACTATTTACAAA...</td>\n    </tr>\n    <tr>\n      <th>4568</th>\n      <td>chr3</td>\n      <td>20649636</td>\n      <td>20649836</td>\n      <td>0</td>\n      <td>tggaaacagacttggggctgttgaggggagggggcacagtgggagt...</td>\n    </tr>\n    <tr>\n      <th>2183</th>\n      <td>chr14</td>\n      <td>69040615</td>\n      <td>69040815</td>\n      <td>0</td>\n      <td>ATGAGTATGGGCTGAGCTTGAGCTTTTGTTCTCATTGACTGCtgtg...</td>\n    </tr>\n  </tbody>\n</table>\n<p>193 rows × 5 columns</p>\n</div>"
     },
     "metadata": {},
     "execution_count": 27
    }
   ],
   "source": [
    "tqdm_notebook.pandas(desc='Generating sequences...')\n",
    "s2_bt=pybedtools.BedTool.from_dataframe(s2_df)\n",
    "s2_df['seq']=s2_df.progress_apply(lambda x : s2_bt.seq(loc=x,fasta='hg19.fa'), axis=1)\n",
    "s2_df"
   ]
  },
  {
   "cell_type": "code",
   "execution_count": 28,
   "metadata": {},
   "outputs": [],
   "source": [
    "# from motif.motif_utils import seq2kmer\n",
    "from tqdm._tqdm_notebook import tqdm_notebook\n",
    "\n",
    "def seq2kmer(seq, k):\n",
    "    \"\"\"\n",
    "    Convert original sequence to kmers\n",
    "    \n",
    "    Arguments:\n",
    "    seq -- str, original sequence.\n",
    "    k -- int, kmer of length k specified.\n",
    "    \n",
    "    Returns:\n",
    "    kmers -- str, kmers separated by space\n",
    "\n",
    "    \"\"\"\n",
    "    kmer = [seq[x:x+k] for x in range(len(seq)+1-k)]\n",
    "    kmers = \" \".join(kmer)\n",
    "    return kmers\n"
   ]
  },
  {
   "source": [
    "Now, generating 6-mers from these sequences..."
   ],
   "cell_type": "markdown",
   "metadata": {}
  },
  {
   "cell_type": "code",
   "execution_count": 29,
   "metadata": {},
   "outputs": [
    {
     "output_type": "display_data",
     "data": {
      "text/plain": "Generating sequences...:   0%|          | 0/193 [00:00<?, ?it/s]",
      "application/vnd.jupyter.widget-view+json": {
       "version_major": 2,
       "version_minor": 0,
       "model_id": "a23ef4c22dd842f2b165d51655fcef52"
      }
     },
     "metadata": {}
    },
    {
     "output_type": "execute_result",
     "data": {
      "text/plain": [
       "        chr      start        end  y  \\\n",
       "874   chr10   15538675   15538875  1   \n",
       "6544   chr7   65700135   65700335  1   \n",
       "5172   chr5   19179836   19180036  1   \n",
       "3856   chr2  128552496  128552696  1   \n",
       "594    chr1  191158116  191158316  1   \n",
       "...     ...        ...        ... ..   \n",
       "1345  chr11   72673226   72673426  0   \n",
       "3265  chr19    4081456    4081656  0   \n",
       "2400  chr15   82477395   82477595  0   \n",
       "4568   chr3   20649636   20649836  0   \n",
       "2183  chr14   69040615   69040815  0   \n",
       "\n",
       "                                                    seq  \\\n",
       "874   tgagtagctgggataacaggtgtgcagcactataacaggaaatttt...   \n",
       "6544  gtcttttaacataatggatgcaatgttctgcaTAGAtttttttttt...   \n",
       "5172  ACTGTCACCAGTGATTAAGACCTACAAGTAAGACCAGTTCGTGCCT...   \n",
       "3856  ctgaggcgggaggatcacttgagcccagtagttcaagtcctgagca...   \n",
       "594   tatcatctccatactacagtccaaaatgtagaaatcaggtgtcagc...   \n",
       "...                                                 ...   \n",
       "1345  tggggtcaaagttatttttataatactaagacattgtctgcccttt...   \n",
       "3265  CAGGGTTCCACATTCAGGATCTCCTCTTTCCTCAGCCCACCTGGCT...   \n",
       "2400  GGATTTTGTCTGTTAGAGACAAAGTTAAGTTTTGACTATTTACAAA...   \n",
       "4568  tggaaacagacttggggctgttgaggggagggggcacagtgggagt...   \n",
       "2183  ATGAGTATGGGCTGAGCTTGAGCTTTTGTTCTCATTGACTGCtgtg...   \n",
       "\n",
       "                                                      X  \n",
       "874   tgagta gagtag agtagc gtagct tagctg agctgg gctg...  \n",
       "6544  gtcttt tctttt ctttta ttttaa tttaac ttaaca taac...  \n",
       "5172  ACTGTC CTGTCA TGTCAC GTCACC TCACCA CACCAG ACCA...  \n",
       "3856  ctgagg tgaggc gaggcg aggcgg ggcggg gcggga cggg...  \n",
       "594   tatcat atcatc tcatct catctc atctcc tctcca ctcc...  \n",
       "...                                                 ...  \n",
       "1345  tggggt ggggtc gggtca ggtcaa gtcaaa tcaaag caaa...  \n",
       "3265  CAGGGT AGGGTT GGGTTC GGTTCC GTTCCA TTCCAC TCCA...  \n",
       "2400  GGATTT GATTTT ATTTTG TTTTGT TTTGTC TTGTCT TGTC...  \n",
       "4568  tggaaa ggaaac gaaaca aaacag aacaga acagac caga...  \n",
       "2183  ATGAGT TGAGTA GAGTAT AGTATG GTATGG TATGGG ATGG...  \n",
       "\n",
       "[193 rows x 6 columns]"
      ],
      "text/html": "<div>\n<style scoped>\n    .dataframe tbody tr th:only-of-type {\n        vertical-align: middle;\n    }\n\n    .dataframe tbody tr th {\n        vertical-align: top;\n    }\n\n    .dataframe thead th {\n        text-align: right;\n    }\n</style>\n<table border=\"1\" class=\"dataframe\">\n  <thead>\n    <tr style=\"text-align: right;\">\n      <th></th>\n      <th>chr</th>\n      <th>start</th>\n      <th>end</th>\n      <th>y</th>\n      <th>seq</th>\n      <th>X</th>\n    </tr>\n  </thead>\n  <tbody>\n    <tr>\n      <th>874</th>\n      <td>chr10</td>\n      <td>15538675</td>\n      <td>15538875</td>\n      <td>1</td>\n      <td>tgagtagctgggataacaggtgtgcagcactataacaggaaatttt...</td>\n      <td>tgagta gagtag agtagc gtagct tagctg agctgg gctg...</td>\n    </tr>\n    <tr>\n      <th>6544</th>\n      <td>chr7</td>\n      <td>65700135</td>\n      <td>65700335</td>\n      <td>1</td>\n      <td>gtcttttaacataatggatgcaatgttctgcaTAGAtttttttttt...</td>\n      <td>gtcttt tctttt ctttta ttttaa tttaac ttaaca taac...</td>\n    </tr>\n    <tr>\n      <th>5172</th>\n      <td>chr5</td>\n      <td>19179836</td>\n      <td>19180036</td>\n      <td>1</td>\n      <td>ACTGTCACCAGTGATTAAGACCTACAAGTAAGACCAGTTCGTGCCT...</td>\n      <td>ACTGTC CTGTCA TGTCAC GTCACC TCACCA CACCAG ACCA...</td>\n    </tr>\n    <tr>\n      <th>3856</th>\n      <td>chr2</td>\n      <td>128552496</td>\n      <td>128552696</td>\n      <td>1</td>\n      <td>ctgaggcgggaggatcacttgagcccagtagttcaagtcctgagca...</td>\n      <td>ctgagg tgaggc gaggcg aggcgg ggcggg gcggga cggg...</td>\n    </tr>\n    <tr>\n      <th>594</th>\n      <td>chr1</td>\n      <td>191158116</td>\n      <td>191158316</td>\n      <td>1</td>\n      <td>tatcatctccatactacagtccaaaatgtagaaatcaggtgtcagc...</td>\n      <td>tatcat atcatc tcatct catctc atctcc tctcca ctcc...</td>\n    </tr>\n    <tr>\n      <th>...</th>\n      <td>...</td>\n      <td>...</td>\n      <td>...</td>\n      <td>...</td>\n      <td>...</td>\n      <td>...</td>\n    </tr>\n    <tr>\n      <th>1345</th>\n      <td>chr11</td>\n      <td>72673226</td>\n      <td>72673426</td>\n      <td>0</td>\n      <td>tggggtcaaagttatttttataatactaagacattgtctgcccttt...</td>\n      <td>tggggt ggggtc gggtca ggtcaa gtcaaa tcaaag caaa...</td>\n    </tr>\n    <tr>\n      <th>3265</th>\n      <td>chr19</td>\n      <td>4081456</td>\n      <td>4081656</td>\n      <td>0</td>\n      <td>CAGGGTTCCACATTCAGGATCTCCTCTTTCCTCAGCCCACCTGGCT...</td>\n      <td>CAGGGT AGGGTT GGGTTC GGTTCC GTTCCA TTCCAC TCCA...</td>\n    </tr>\n    <tr>\n      <th>2400</th>\n      <td>chr15</td>\n      <td>82477395</td>\n      <td>82477595</td>\n      <td>0</td>\n      <td>GGATTTTGTCTGTTAGAGACAAAGTTAAGTTTTGACTATTTACAAA...</td>\n      <td>GGATTT GATTTT ATTTTG TTTTGT TTTGTC TTGTCT TGTC...</td>\n    </tr>\n    <tr>\n      <th>4568</th>\n      <td>chr3</td>\n      <td>20649636</td>\n      <td>20649836</td>\n      <td>0</td>\n      <td>tggaaacagacttggggctgttgaggggagggggcacagtgggagt...</td>\n      <td>tggaaa ggaaac gaaaca aaacag aacaga acagac caga...</td>\n    </tr>\n    <tr>\n      <th>2183</th>\n      <td>chr14</td>\n      <td>69040615</td>\n      <td>69040815</td>\n      <td>0</td>\n      <td>ATGAGTATGGGCTGAGCTTGAGCTTTTGTTCTCATTGACTGCtgtg...</td>\n      <td>ATGAGT TGAGTA GAGTAT AGTATG GTATGG TATGGG ATGG...</td>\n    </tr>\n  </tbody>\n</table>\n<p>193 rows × 6 columns</p>\n</div>"
     },
     "metadata": {},
     "execution_count": 29
    }
   ],
   "source": [
    "s2_df['X']= s2_df.progress_apply(lambda row: seq2kmer(row['seq'],6),axis=1)\n",
    "s2_df"
   ]
  },
  {
   "source": [
    "Subsetting dev and train datasets..."
   ],
   "cell_type": "markdown",
   "metadata": {}
  },
  {
   "cell_type": "code",
   "execution_count": 31,
   "metadata": {},
   "outputs": [],
   "source": [
    "from sklearn.model_selection import train_test_split\n",
    "data = s2_df[['X','y']].rename(columns={'X':'sequence','y':'label'})\n",
    "train, dev = train_test_split(data, test_size=0.2)\n",
    "train.to_csv('data/jayavulu/train.tsv', sep = '\\t', index=False)\n",
    "dev.to_csv('data/jayavulu/dev.tsv', sep = '\\t', index=False)"
   ]
  },
  {
   "source": [
    "Now, can run fine-tuning process..."
   ],
   "cell_type": "markdown",
   "metadata": {}
  },
  {
   "cell_type": "code",
   "execution_count": null,
   "metadata": {},
   "outputs": [],
   "source": [
    "%% bash\n",
    "\n",
    "cd examples\n",
    "\n",
    "export KMER=6\n",
    "export MODEL_PATH=../pretrained_models/6-new-12w-0\n",
    "export DATA_PATH=../data/jayavulu/new #sample_data/ft/prom-core/$KMER\n",
    "export OUTPUT_PATH=../data/jayavulu/new #./ft/prom-core/$KMER\n",
    "\n",
    "python run_finetune.py \\\n",
    "    --model_type dna \\\n",
    "    --tokenizer_name=dna$KMER \\\n",
    "    --model_name_or_path $MODEL_PATH \\\n",
    "    --task_name dnaprom \\\n",
    "    --do_train \\\n",
    "    --do_eval \\\n",
    "    --data_dir $DATA_PATH \\\n",
    "    --max_seq_length 75 \\\n",
    "    --per_gpu_eval_batch_size=16   \\\n",
    "    --per_gpu_train_batch_size=16   \\\n",
    "    --learning_rate 2e-4 \\\n",
    "    --num_train_epochs 3.0 \\\n",
    "    --output_dir $OUTPUT_PATH \\\n",
    "    --evaluate_during_training \\\n",
    "    --logging_steps 100 \\\n",
    "    --save_steps 4000 \\\n",
    "    --warmup_percent 0.1 \\\n",
    "    --hidden_dropout_prob 0.1 \\\n",
    "    --overwrite_output \\\n",
    "    --weight_decay 0.01 \\\n",
    "    --n_process 8"
   ]
  },
  {
   "cell_type": "code",
   "execution_count": null,
   "metadata": {},
   "outputs": [],
   "source": []
  },
  {
   "cell_type": "code",
   "execution_count": null,
   "metadata": {},
   "outputs": [],
   "source": []
  },
  {
   "cell_type": "code",
   "execution_count": null,
   "metadata": {},
   "outputs": [],
   "source": []
  },
  {
   "cell_type": "code",
   "execution_count": null,
   "metadata": {},
   "outputs": [],
   "source": []
  },
  {
   "source": [
    "***We collected the uncharacterized cis-regulatory elements (CREs) in K562 cells with MPRA provided by Jayavelu et al. Then we chose the top 2000 uncharacterized CREs sequences with the lowest MPRA activity as a positive set, and the bottom 2000 uncharacterized CREs with highest MPRA activity as a negative set.***\n",
    "\n",
    "- ok for classification. but can directly perform regression (?)."
   ],
   "cell_type": "markdown",
   "metadata": {}
  },
  {
   "source": [
    "### TEST DATA:"
   ],
   "cell_type": "markdown",
   "metadata": {}
  },
  {
   "cell_type": "code",
   "execution_count": 32,
   "metadata": {},
   "outputs": [
    {
     "output_type": "execute_result",
     "data": {
      "text/plain": [
       "          chr     start       end      peakid cell_type    uniq_id  \\\n",
       "0        chr1     54375     54525       peak1    ENCU40        id1   \n",
       "1        chr1     54375     54525       peak1    ENCU53        id2   \n",
       "2        chr1     66275     66485       peak1    ENCU12        id5   \n",
       "3        chr1     66335     66505       peak1    ENCU26        id6   \n",
       "4        chr1     66355     66505       peak1    ENCU13        id7   \n",
       "...       ...       ...       ...         ...       ...        ...   \n",
       "2040019  chrY  28683355  28683505  peak810657    ENCU13  id3470182   \n",
       "2040020  chrY  28721635  28721925   peak12267    ENCU50  id3470184   \n",
       "2040021  chrY  28721695  28721845  peak232836    ENCU47  id3470186   \n",
       "2040022  chrY  28734715  28734925  peak810658    ENCU13  id3470190   \n",
       "2040023  chrY  28752895  28753045   peak12268    ENCU50  id3470193   \n",
       "\n",
       "              SVM_prediction  \n",
       "0         Candidate_Silencer  \n",
       "1         Candidate_Silencer  \n",
       "2        uncharacterized_CRE  \n",
       "3        uncharacterized_CRE  \n",
       "4         Candidate_Silencer  \n",
       "...                      ...  \n",
       "2040019  uncharacterized_CRE  \n",
       "2040020  uncharacterized_CRE  \n",
       "2040021  uncharacterized_CRE  \n",
       "2040022   Candidate_Silencer  \n",
       "2040023   Candidate_Silencer  \n",
       "\n",
       "[2040024 rows x 7 columns]"
      ],
      "text/html": "<div>\n<style scoped>\n    .dataframe tbody tr th:only-of-type {\n        vertical-align: middle;\n    }\n\n    .dataframe tbody tr th {\n        vertical-align: top;\n    }\n\n    .dataframe thead th {\n        text-align: right;\n    }\n</style>\n<table border=\"1\" class=\"dataframe\">\n  <thead>\n    <tr style=\"text-align: right;\">\n      <th></th>\n      <th>chr</th>\n      <th>start</th>\n      <th>end</th>\n      <th>peakid</th>\n      <th>cell_type</th>\n      <th>uniq_id</th>\n      <th>SVM_prediction</th>\n    </tr>\n  </thead>\n  <tbody>\n    <tr>\n      <th>0</th>\n      <td>chr1</td>\n      <td>54375</td>\n      <td>54525</td>\n      <td>peak1</td>\n      <td>ENCU40</td>\n      <td>id1</td>\n      <td>Candidate_Silencer</td>\n    </tr>\n    <tr>\n      <th>1</th>\n      <td>chr1</td>\n      <td>54375</td>\n      <td>54525</td>\n      <td>peak1</td>\n      <td>ENCU53</td>\n      <td>id2</td>\n      <td>Candidate_Silencer</td>\n    </tr>\n    <tr>\n      <th>2</th>\n      <td>chr1</td>\n      <td>66275</td>\n      <td>66485</td>\n      <td>peak1</td>\n      <td>ENCU12</td>\n      <td>id5</td>\n      <td>uncharacterized_CRE</td>\n    </tr>\n    <tr>\n      <th>3</th>\n      <td>chr1</td>\n      <td>66335</td>\n      <td>66505</td>\n      <td>peak1</td>\n      <td>ENCU26</td>\n      <td>id6</td>\n      <td>uncharacterized_CRE</td>\n    </tr>\n    <tr>\n      <th>4</th>\n      <td>chr1</td>\n      <td>66355</td>\n      <td>66505</td>\n      <td>peak1</td>\n      <td>ENCU13</td>\n      <td>id7</td>\n      <td>Candidate_Silencer</td>\n    </tr>\n    <tr>\n      <th>...</th>\n      <td>...</td>\n      <td>...</td>\n      <td>...</td>\n      <td>...</td>\n      <td>...</td>\n      <td>...</td>\n      <td>...</td>\n    </tr>\n    <tr>\n      <th>2040019</th>\n      <td>chrY</td>\n      <td>28683355</td>\n      <td>28683505</td>\n      <td>peak810657</td>\n      <td>ENCU13</td>\n      <td>id3470182</td>\n      <td>uncharacterized_CRE</td>\n    </tr>\n    <tr>\n      <th>2040020</th>\n      <td>chrY</td>\n      <td>28721635</td>\n      <td>28721925</td>\n      <td>peak12267</td>\n      <td>ENCU50</td>\n      <td>id3470184</td>\n      <td>uncharacterized_CRE</td>\n    </tr>\n    <tr>\n      <th>2040021</th>\n      <td>chrY</td>\n      <td>28721695</td>\n      <td>28721845</td>\n      <td>peak232836</td>\n      <td>ENCU47</td>\n      <td>id3470186</td>\n      <td>uncharacterized_CRE</td>\n    </tr>\n    <tr>\n      <th>2040022</th>\n      <td>chrY</td>\n      <td>28734715</td>\n      <td>28734925</td>\n      <td>peak810658</td>\n      <td>ENCU13</td>\n      <td>id3470190</td>\n      <td>Candidate_Silencer</td>\n    </tr>\n    <tr>\n      <th>2040023</th>\n      <td>chrY</td>\n      <td>28752895</td>\n      <td>28753045</td>\n      <td>peak12268</td>\n      <td>ENCU50</td>\n      <td>id3470193</td>\n      <td>Candidate_Silencer</td>\n    </tr>\n  </tbody>\n</table>\n<p>2040024 rows × 7 columns</p>\n</div>"
     },
     "metadata": {},
     "execution_count": 32
    }
   ],
   "source": [
    "# encode_hg19_df = pd.read_csv('data/jayavulu/Candidate_silencers_and_uncharacterized_CREs_human_hg19_ENCODE_cell_types.txt',sep='\\t')\n",
    "# encode_hg19_df"
   ]
  },
  {
   "cell_type": "code",
   "execution_count": 33,
   "metadata": {},
   "outputs": [
    {
     "output_type": "execute_result",
     "data": {
      "text/plain": [
       "          chr      start        end     peakid cell_type    uniq_id  \\\n",
       "0        chr1     928776     928917      peak1      E003        id1   \n",
       "1        chr1    1153909    1154050      peak2      E003        id2   \n",
       "2        chr1    1180000    1180068      peak3      E003        id3   \n",
       "3        chr1    1218670    1218747      peak4      E003        id4   \n",
       "4        chr1    1264431    1264522      peak5      E003        id5   \n",
       "...       ...        ...        ...        ...       ...        ...   \n",
       "2253962  chrX  154853449  154853509  peak84098      E127  id2253963   \n",
       "2253963  chrX  155061594  155061704  peak84099      E127  id2253964   \n",
       "2253964  chrX  155067591  155067648  peak84100      E127  id2253965   \n",
       "2253965  chrX  155079045  155079099  peak84101      E127  id2253966   \n",
       "2253966  chrX  155211567  155211621  peak84102      E127  id2253967   \n",
       "\n",
       "              SVM_prediction  \n",
       "0        uncharacterized_CRE  \n",
       "1        uncharacterized_CRE  \n",
       "2        uncharacterized_CRE  \n",
       "3        uncharacterized_CRE  \n",
       "4        uncharacterized_CRE  \n",
       "...                      ...  \n",
       "2253962   Candidate_Silencer  \n",
       "2253963   Candidate_Silencer  \n",
       "2253964   Candidate_Silencer  \n",
       "2253965   Candidate_Silencer  \n",
       "2253966   Candidate_Silencer  \n",
       "\n",
       "[2253967 rows x 7 columns]"
      ],
      "text/html": "<div>\n<style scoped>\n    .dataframe tbody tr th:only-of-type {\n        vertical-align: middle;\n    }\n\n    .dataframe tbody tr th {\n        vertical-align: top;\n    }\n\n    .dataframe thead th {\n        text-align: right;\n    }\n</style>\n<table border=\"1\" class=\"dataframe\">\n  <thead>\n    <tr style=\"text-align: right;\">\n      <th></th>\n      <th>chr</th>\n      <th>start</th>\n      <th>end</th>\n      <th>peakid</th>\n      <th>cell_type</th>\n      <th>uniq_id</th>\n      <th>SVM_prediction</th>\n    </tr>\n  </thead>\n  <tbody>\n    <tr>\n      <th>0</th>\n      <td>chr1</td>\n      <td>928776</td>\n      <td>928917</td>\n      <td>peak1</td>\n      <td>E003</td>\n      <td>id1</td>\n      <td>uncharacterized_CRE</td>\n    </tr>\n    <tr>\n      <th>1</th>\n      <td>chr1</td>\n      <td>1153909</td>\n      <td>1154050</td>\n      <td>peak2</td>\n      <td>E003</td>\n      <td>id2</td>\n      <td>uncharacterized_CRE</td>\n    </tr>\n    <tr>\n      <th>2</th>\n      <td>chr1</td>\n      <td>1180000</td>\n      <td>1180068</td>\n      <td>peak3</td>\n      <td>E003</td>\n      <td>id3</td>\n      <td>uncharacterized_CRE</td>\n    </tr>\n    <tr>\n      <th>3</th>\n      <td>chr1</td>\n      <td>1218670</td>\n      <td>1218747</td>\n      <td>peak4</td>\n      <td>E003</td>\n      <td>id4</td>\n      <td>uncharacterized_CRE</td>\n    </tr>\n    <tr>\n      <th>4</th>\n      <td>chr1</td>\n      <td>1264431</td>\n      <td>1264522</td>\n      <td>peak5</td>\n      <td>E003</td>\n      <td>id5</td>\n      <td>uncharacterized_CRE</td>\n    </tr>\n    <tr>\n      <th>...</th>\n      <td>...</td>\n      <td>...</td>\n      <td>...</td>\n      <td>...</td>\n      <td>...</td>\n      <td>...</td>\n      <td>...</td>\n    </tr>\n    <tr>\n      <th>2253962</th>\n      <td>chrX</td>\n      <td>154853449</td>\n      <td>154853509</td>\n      <td>peak84098</td>\n      <td>E127</td>\n      <td>id2253963</td>\n      <td>Candidate_Silencer</td>\n    </tr>\n    <tr>\n      <th>2253963</th>\n      <td>chrX</td>\n      <td>155061594</td>\n      <td>155061704</td>\n      <td>peak84099</td>\n      <td>E127</td>\n      <td>id2253964</td>\n      <td>Candidate_Silencer</td>\n    </tr>\n    <tr>\n      <th>2253964</th>\n      <td>chrX</td>\n      <td>155067591</td>\n      <td>155067648</td>\n      <td>peak84100</td>\n      <td>E127</td>\n      <td>id2253965</td>\n      <td>Candidate_Silencer</td>\n    </tr>\n    <tr>\n      <th>2253965</th>\n      <td>chrX</td>\n      <td>155079045</td>\n      <td>155079099</td>\n      <td>peak84101</td>\n      <td>E127</td>\n      <td>id2253966</td>\n      <td>Candidate_Silencer</td>\n    </tr>\n    <tr>\n      <th>2253966</th>\n      <td>chrX</td>\n      <td>155211567</td>\n      <td>155211621</td>\n      <td>peak84102</td>\n      <td>E127</td>\n      <td>id2253967</td>\n      <td>Candidate_Silencer</td>\n    </tr>\n  </tbody>\n</table>\n<p>2253967 rows × 7 columns</p>\n</div>"
     },
     "metadata": {},
     "execution_count": 33
    }
   ],
   "source": [
    "# roadmap_hg19_df = pd.read_csv('data/jayavulu/Candidate_silencers_and_uncharacterized_CREs_human_hg19_roadmap_cell_types.txt',sep='\\t')\n",
    "# roadmap_hg19_df"
   ]
  },
  {
   "cell_type": "code",
   "execution_count": 34,
   "metadata": {},
   "outputs": [
    {
     "output_type": "execute_result",
     "data": {
      "text/plain": [
       "          chr     start       end cell_type    uniq_id       SVM_prediction\n",
       "0        chr1    928776    928917      E003        id1  uncharacterized_CRE\n",
       "1        chr1   1153909   1154050      E003        id2  uncharacterized_CRE\n",
       "2        chr1   1180000   1180068      E003        id3  uncharacterized_CRE\n",
       "3        chr1   1218670   1218747      E003        id4  uncharacterized_CRE\n",
       "4        chr1   1264431   1264522      E003        id5  uncharacterized_CRE\n",
       "...       ...       ...       ...       ...        ...                  ...\n",
       "4293986  chrY  28683355  28683505    ENCU13  id3470182  uncharacterized_CRE\n",
       "4293987  chrY  28721635  28721925    ENCU50  id3470184  uncharacterized_CRE\n",
       "4293988  chrY  28721695  28721845    ENCU47  id3470186  uncharacterized_CRE\n",
       "4293989  chrY  28734715  28734925    ENCU13  id3470190   Candidate_Silencer\n",
       "4293990  chrY  28752895  28753045    ENCU50  id3470193   Candidate_Silencer\n",
       "\n",
       "[4293991 rows x 6 columns]"
      ],
      "text/html": "<div>\n<style scoped>\n    .dataframe tbody tr th:only-of-type {\n        vertical-align: middle;\n    }\n\n    .dataframe tbody tr th {\n        vertical-align: top;\n    }\n\n    .dataframe thead th {\n        text-align: right;\n    }\n</style>\n<table border=\"1\" class=\"dataframe\">\n  <thead>\n    <tr style=\"text-align: right;\">\n      <th></th>\n      <th>chr</th>\n      <th>start</th>\n      <th>end</th>\n      <th>cell_type</th>\n      <th>uniq_id</th>\n      <th>SVM_prediction</th>\n    </tr>\n  </thead>\n  <tbody>\n    <tr>\n      <th>0</th>\n      <td>chr1</td>\n      <td>928776</td>\n      <td>928917</td>\n      <td>E003</td>\n      <td>id1</td>\n      <td>uncharacterized_CRE</td>\n    </tr>\n    <tr>\n      <th>1</th>\n      <td>chr1</td>\n      <td>1153909</td>\n      <td>1154050</td>\n      <td>E003</td>\n      <td>id2</td>\n      <td>uncharacterized_CRE</td>\n    </tr>\n    <tr>\n      <th>2</th>\n      <td>chr1</td>\n      <td>1180000</td>\n      <td>1180068</td>\n      <td>E003</td>\n      <td>id3</td>\n      <td>uncharacterized_CRE</td>\n    </tr>\n    <tr>\n      <th>3</th>\n      <td>chr1</td>\n      <td>1218670</td>\n      <td>1218747</td>\n      <td>E003</td>\n      <td>id4</td>\n      <td>uncharacterized_CRE</td>\n    </tr>\n    <tr>\n      <th>4</th>\n      <td>chr1</td>\n      <td>1264431</td>\n      <td>1264522</td>\n      <td>E003</td>\n      <td>id5</td>\n      <td>uncharacterized_CRE</td>\n    </tr>\n    <tr>\n      <th>...</th>\n      <td>...</td>\n      <td>...</td>\n      <td>...</td>\n      <td>...</td>\n      <td>...</td>\n      <td>...</td>\n    </tr>\n    <tr>\n      <th>4293986</th>\n      <td>chrY</td>\n      <td>28683355</td>\n      <td>28683505</td>\n      <td>ENCU13</td>\n      <td>id3470182</td>\n      <td>uncharacterized_CRE</td>\n    </tr>\n    <tr>\n      <th>4293987</th>\n      <td>chrY</td>\n      <td>28721635</td>\n      <td>28721925</td>\n      <td>ENCU50</td>\n      <td>id3470184</td>\n      <td>uncharacterized_CRE</td>\n    </tr>\n    <tr>\n      <th>4293988</th>\n      <td>chrY</td>\n      <td>28721695</td>\n      <td>28721845</td>\n      <td>ENCU47</td>\n      <td>id3470186</td>\n      <td>uncharacterized_CRE</td>\n    </tr>\n    <tr>\n      <th>4293989</th>\n      <td>chrY</td>\n      <td>28734715</td>\n      <td>28734925</td>\n      <td>ENCU13</td>\n      <td>id3470190</td>\n      <td>Candidate_Silencer</td>\n    </tr>\n    <tr>\n      <th>4293990</th>\n      <td>chrY</td>\n      <td>28752895</td>\n      <td>28753045</td>\n      <td>ENCU50</td>\n      <td>id3470193</td>\n      <td>Candidate_Silencer</td>\n    </tr>\n  </tbody>\n</table>\n<p>4293991 rows × 6 columns</p>\n</div>"
     },
     "metadata": {},
     "execution_count": 34
    }
   ],
   "source": [
    "# hg_19_merged_df = pd.concat([roadmap_hg19_df,encode_hg19_df])\n",
    "# hg_19_merged_df=hg_19_merged_df.reset_index(drop=True).drop('peakid',axis=1)\n",
    "# hg_19_merged_df"
   ]
  },
  {
   "cell_type": "code",
   "execution_count": null,
   "metadata": {},
   "outputs": [],
   "source": []
  }
 ]
}