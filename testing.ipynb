{
 "metadata": {
  "language_info": {
   "codemirror_mode": {
    "name": "ipython",
    "version": 3
   },
   "file_extension": ".py",
   "mimetype": "text/x-python",
   "name": "python",
   "nbconvert_exporter": "python",
   "pygments_lexer": "ipython3",
   "version": "3.9.5"
  },
  "orig_nbformat": 4,
  "kernelspec": {
   "name": "python3",
   "display_name": "Python 3.9.5 64-bit ('deepenv': conda)"
  },
  "interpreter": {
   "hash": "b728b1e1ff68024e99b59c90ae9144cc851e77ab764664e4aae6061b6b72e737"
  }
 },
 "nbformat": 4,
 "nbformat_minor": 2,
 "cells": [
  {
   "source": [
    "Download the data...\n",
    "\n",
    "- https://osf.io/fqm7x/download/"
   ],
   "cell_type": "markdown",
   "metadata": {}
  },
  {
   "cell_type": "code",
   "execution_count": 1,
   "metadata": {},
   "outputs": [
    {
     "output_type": "execute_result",
     "data": {
      "text/plain": [
       "        peakid    chr      start        end                         anno  \\\n",
       "5988  peak5989   chr6  105335336  105335536  tested_uncharacterized_CREs   \n",
       "4817  peak4818   chr3  126881796  126881996  tested_uncharacterized_CREs   \n",
       "5488  peak5489   chr5  137468175  137468375  tested_uncharacterized_CREs   \n",
       "3421  peak3422  chr19   28910615   28910815  tested_uncharacterized_CREs   \n",
       "7186  peak7187   chr8  140908956  140909156  tested_uncharacterized_CREs   \n",
       "...        ...    ...        ...        ...                          ...   \n",
       "7332  peak7333   chr9  129122435  129122635  tested_uncharacterized_CREs   \n",
       "5396  peak5397   chr5  105657016  105657216  tested_uncharacterized_CREs   \n",
       "7364  peak7365   chrX   22818536   22818736  tested_uncharacterized_CREs   \n",
       "3615  peak3616   chr2   21865616   21865816  tested_uncharacterized_CREs   \n",
       "6993  peak6994   chr8   36854056   36854256  tested_uncharacterized_CREs   \n",
       "\n",
       "        log2FC         P-val     adj.P-val    repressor_status  \\\n",
       "5988 -1.274051  1.050707e-25  5.466698e-24     known_repressor   \n",
       "4817 -1.255832  4.680660e-22  1.800560e-20     known_repressor   \n",
       "5488 -1.099825  1.195033e-21  4.432039e-20     known_repressor   \n",
       "3421 -0.922992  4.717267e-18  1.209761e-16     known_repressor   \n",
       "7186 -0.892250  5.385919e-14  8.995604e-13     known_repressor   \n",
       "...        ...           ...           ...                 ...   \n",
       "7332  0.848734  1.000000e+00  1.000000e+00     known_repressor   \n",
       "5396  0.912185  1.000000e+00  1.000000e+00  no_known_repressor   \n",
       "7364  1.153068  1.000000e+00  1.000000e+00  no_known_repressor   \n",
       "3615  1.349605  1.000000e+00  1.000000e+00  no_known_repressor   \n",
       "6993  1.587224  1.000000e+00  1.000000e+00  no_known_repressor   \n",
       "\n",
       "     MPRA_validated_silencer  \n",
       "5988                     YES  \n",
       "4817                     YES  \n",
       "5488                     YES  \n",
       "3421                     YES  \n",
       "7186                     YES  \n",
       "...                      ...  \n",
       "7332                      NO  \n",
       "5396                      NO  \n",
       "7364                      NO  \n",
       "3615                      NO  \n",
       "6993                      NO  \n",
       "\n",
       "[94 rows x 10 columns]"
      ],
      "text/html": "<div>\n<style scoped>\n    .dataframe tbody tr th:only-of-type {\n        vertical-align: middle;\n    }\n\n    .dataframe tbody tr th {\n        vertical-align: top;\n    }\n\n    .dataframe thead th {\n        text-align: right;\n    }\n</style>\n<table border=\"1\" class=\"dataframe\">\n  <thead>\n    <tr style=\"text-align: right;\">\n      <th></th>\n      <th>peakid</th>\n      <th>chr</th>\n      <th>start</th>\n      <th>end</th>\n      <th>anno</th>\n      <th>log2FC</th>\n      <th>P-val</th>\n      <th>adj.P-val</th>\n      <th>repressor_status</th>\n      <th>MPRA_validated_silencer</th>\n    </tr>\n  </thead>\n  <tbody>\n    <tr>\n      <th>5988</th>\n      <td>peak5989</td>\n      <td>chr6</td>\n      <td>105335336</td>\n      <td>105335536</td>\n      <td>tested_uncharacterized_CREs</td>\n      <td>-1.274051</td>\n      <td>1.050707e-25</td>\n      <td>5.466698e-24</td>\n      <td>known_repressor</td>\n      <td>YES</td>\n    </tr>\n    <tr>\n      <th>4817</th>\n      <td>peak4818</td>\n      <td>chr3</td>\n      <td>126881796</td>\n      <td>126881996</td>\n      <td>tested_uncharacterized_CREs</td>\n      <td>-1.255832</td>\n      <td>4.680660e-22</td>\n      <td>1.800560e-20</td>\n      <td>known_repressor</td>\n      <td>YES</td>\n    </tr>\n    <tr>\n      <th>5488</th>\n      <td>peak5489</td>\n      <td>chr5</td>\n      <td>137468175</td>\n      <td>137468375</td>\n      <td>tested_uncharacterized_CREs</td>\n      <td>-1.099825</td>\n      <td>1.195033e-21</td>\n      <td>4.432039e-20</td>\n      <td>known_repressor</td>\n      <td>YES</td>\n    </tr>\n    <tr>\n      <th>3421</th>\n      <td>peak3422</td>\n      <td>chr19</td>\n      <td>28910615</td>\n      <td>28910815</td>\n      <td>tested_uncharacterized_CREs</td>\n      <td>-0.922992</td>\n      <td>4.717267e-18</td>\n      <td>1.209761e-16</td>\n      <td>known_repressor</td>\n      <td>YES</td>\n    </tr>\n    <tr>\n      <th>7186</th>\n      <td>peak7187</td>\n      <td>chr8</td>\n      <td>140908956</td>\n      <td>140909156</td>\n      <td>tested_uncharacterized_CREs</td>\n      <td>-0.892250</td>\n      <td>5.385919e-14</td>\n      <td>8.995604e-13</td>\n      <td>known_repressor</td>\n      <td>YES</td>\n    </tr>\n    <tr>\n      <th>...</th>\n      <td>...</td>\n      <td>...</td>\n      <td>...</td>\n      <td>...</td>\n      <td>...</td>\n      <td>...</td>\n      <td>...</td>\n      <td>...</td>\n      <td>...</td>\n      <td>...</td>\n    </tr>\n    <tr>\n      <th>7332</th>\n      <td>peak7333</td>\n      <td>chr9</td>\n      <td>129122435</td>\n      <td>129122635</td>\n      <td>tested_uncharacterized_CREs</td>\n      <td>0.848734</td>\n      <td>1.000000e+00</td>\n      <td>1.000000e+00</td>\n      <td>known_repressor</td>\n      <td>NO</td>\n    </tr>\n    <tr>\n      <th>5396</th>\n      <td>peak5397</td>\n      <td>chr5</td>\n      <td>105657016</td>\n      <td>105657216</td>\n      <td>tested_uncharacterized_CREs</td>\n      <td>0.912185</td>\n      <td>1.000000e+00</td>\n      <td>1.000000e+00</td>\n      <td>no_known_repressor</td>\n      <td>NO</td>\n    </tr>\n    <tr>\n      <th>7364</th>\n      <td>peak7365</td>\n      <td>chrX</td>\n      <td>22818536</td>\n      <td>22818736</td>\n      <td>tested_uncharacterized_CREs</td>\n      <td>1.153068</td>\n      <td>1.000000e+00</td>\n      <td>1.000000e+00</td>\n      <td>no_known_repressor</td>\n      <td>NO</td>\n    </tr>\n    <tr>\n      <th>3615</th>\n      <td>peak3616</td>\n      <td>chr2</td>\n      <td>21865616</td>\n      <td>21865816</td>\n      <td>tested_uncharacterized_CREs</td>\n      <td>1.349605</td>\n      <td>1.000000e+00</td>\n      <td>1.000000e+00</td>\n      <td>no_known_repressor</td>\n      <td>NO</td>\n    </tr>\n    <tr>\n      <th>6993</th>\n      <td>peak6994</td>\n      <td>chr8</td>\n      <td>36854056</td>\n      <td>36854256</td>\n      <td>tested_uncharacterized_CREs</td>\n      <td>1.587224</td>\n      <td>1.000000e+00</td>\n      <td>1.000000e+00</td>\n      <td>no_known_repressor</td>\n      <td>NO</td>\n    </tr>\n  </tbody>\n</table>\n<p>94 rows × 10 columns</p>\n</div>"
     },
     "metadata": {},
     "execution_count": 1
    }
   ],
   "source": [
    "import pandas as pd\n",
    "import numpy as np\n",
    "\n",
    "s2_df = pd.read_excel('data/jayavulu/Supplementary_Table2.xlsx').sample(100)\n",
    "s2_df = s2_df.sort_values('log2FC').dropna(subset=['log2FC'])\n",
    "s2_df = s2_df[s2_df['anno']=='tested_uncharacterized_CREs']\n",
    "# s2_df['y']=np.where(s2_df['MPRA_validated_silencer']=='YES',1,0)\n",
    "s2_df"
   ]
  },
  {
   "cell_type": "code",
   "execution_count": 2,
   "metadata": {},
   "outputs": [
    {
     "output_type": "execute_result",
     "data": {
      "text/plain": [
       "<AxesSubplot:xlabel='log2FC', ylabel='Count'>"
      ]
     },
     "metadata": {},
     "execution_count": 2
    },
    {
     "output_type": "display_data",
     "data": {
      "text/plain": "<Figure size 720x720 with 1 Axes>",
      "image/svg+xml": "<?xml version=\"1.0\" encoding=\"utf-8\" standalone=\"no\"?>\n<!DOCTYPE svg PUBLIC \"-//W3C//DTD SVG 1.1//EN\"\n  \"http://www.w3.org/Graphics/SVG/1.1/DTD/svg11.dtd\">\n<svg height=\"588.35625pt\" version=\"1.1\" viewBox=\"0 0 615.34375 588.35625\" width=\"615.34375pt\" xmlns=\"http://www.w3.org/2000/svg\" xmlns:xlink=\"http://www.w3.org/1999/xlink\">\n <metadata>\n  <rdf:RDF xmlns:cc=\"http://creativecommons.org/ns#\" xmlns:dc=\"http://purl.org/dc/elements/1.1/\" xmlns:rdf=\"http://www.w3.org/1999/02/22-rdf-syntax-ns#\">\n   <cc:Work>\n    <dc:type rdf:resource=\"http://purl.org/dc/dcmitype/StillImage\"/>\n    <dc:date>2021-06-24T10:20:01.928958</dc:date>\n    <dc:format>image/svg+xml</dc:format>\n    <dc:creator>\n     <cc:Agent>\n      <dc:title>Matplotlib v3.4.2, https://matplotlib.org/</dc:title>\n     </cc:Agent>\n    </dc:creator>\n   </cc:Work>\n  </rdf:RDF>\n </metadata>\n <defs>\n  <style type=\"text/css\">*{stroke-linecap:butt;stroke-linejoin:round;}</style>\n </defs>\n <g id=\"figure_1\">\n  <g id=\"patch_1\">\n   <path d=\"M 0 588.35625 \nL 615.34375 588.35625 \nL 615.34375 0 \nL 0 0 \nz\n\" style=\"fill:none;\"/>\n  </g>\n  <g id=\"axes_1\">\n   <g id=\"patch_2\">\n    <path d=\"M 50.14375 550.8 \nL 608.14375 550.8 \nL 608.14375 7.2 \nL 50.14375 7.2 \nz\n\" style=\"fill:#ffffff;\"/>\n   </g>\n   <g id=\"patch_3\">\n    <path clip-path=\"url(#pcba564a79d)\" d=\"M 75.507386 550.8 \nL 114.528365 550.8 \nL 114.528365 550.8 \nL 75.507386 550.8 \nz\n\" style=\"fill:#ff7f0e;fill-opacity:0.5;\"/>\n   </g>\n   <g id=\"patch_4\">\n    <path clip-path=\"url(#pcba564a79d)\" d=\"M 114.528365 550.8 \nL 153.549344 550.8 \nL 153.549344 550.8 \nL 114.528365 550.8 \nz\n\" style=\"fill:#ff7f0e;fill-opacity:0.5;\"/>\n   </g>\n   <g id=\"patch_5\">\n    <path clip-path=\"url(#pcba564a79d)\" d=\"M 153.549344 550.8 \nL 192.570323 550.8 \nL 192.570323 550.8 \nL 153.549344 550.8 \nz\n\" style=\"fill:#ff7f0e;fill-opacity:0.5;\"/>\n   </g>\n   <g id=\"patch_6\">\n    <path clip-path=\"url(#pcba564a79d)\" d=\"M 192.570323 550.8 \nL 231.591302 550.8 \nL 231.591302 550.8 \nL 192.570323 550.8 \nz\n\" style=\"fill:#ff7f0e;fill-opacity:0.5;\"/>\n   </g>\n   <g id=\"patch_7\">\n    <path clip-path=\"url(#pcba564a79d)\" d=\"M 231.591302 550.8 \nL 270.612281 550.8 \nL 270.612281 550.8 \nL 231.591302 550.8 \nz\n\" style=\"fill:#ff7f0e;fill-opacity:0.5;\"/>\n   </g>\n   <g id=\"patch_8\">\n    <path clip-path=\"url(#pcba564a79d)\" d=\"M 270.612281 550.8 \nL 309.63326 550.8 \nL 309.63326 156.35102 \nL 270.612281 156.35102 \nz\n\" style=\"fill:#ff7f0e;fill-opacity:0.5;\"/>\n   </g>\n   <g id=\"patch_9\">\n    <path clip-path=\"url(#pcba564a79d)\" d=\"M 309.63326 550.8 \nL 348.65424 550.8 \nL 348.65424 57.738776 \nL 309.63326 57.738776 \nz\n\" style=\"fill:#ff7f0e;fill-opacity:0.5;\"/>\n   </g>\n   <g id=\"patch_10\">\n    <path clip-path=\"url(#pcba564a79d)\" d=\"M 348.65424 550.8 \nL 387.675219 550.8 \nL 387.675219 353.57551 \nL 348.65424 353.57551 \nz\n\" style=\"fill:#ff7f0e;fill-opacity:0.5;\"/>\n   </g>\n   <g id=\"patch_11\">\n    <path clip-path=\"url(#pcba564a79d)\" d=\"M 387.675219 550.8 \nL 426.696198 550.8 \nL 426.696198 402.881633 \nL 387.675219 402.881633 \nz\n\" style=\"fill:#ff7f0e;fill-opacity:0.5;\"/>\n   </g>\n   <g id=\"patch_12\">\n    <path clip-path=\"url(#pcba564a79d)\" d=\"M 426.696198 550.8 \nL 465.717177 550.8 \nL 465.717177 476.840816 \nL 426.696198 476.840816 \nz\n\" style=\"fill:#ff7f0e;fill-opacity:0.5;\"/>\n   </g>\n   <g id=\"patch_13\">\n    <path clip-path=\"url(#pcba564a79d)\" d=\"M 465.717177 550.8 \nL 504.738156 550.8 \nL 504.738156 550.8 \nL 465.717177 550.8 \nz\n\" style=\"fill:#ff7f0e;fill-opacity:0.5;\"/>\n   </g>\n   <g id=\"patch_14\">\n    <path clip-path=\"url(#pcba564a79d)\" d=\"M 504.738156 550.8 \nL 543.759135 550.8 \nL 543.759135 501.493878 \nL 504.738156 501.493878 \nz\n\" style=\"fill:#ff7f0e;fill-opacity:0.5;\"/>\n   </g>\n   <g id=\"patch_15\">\n    <path clip-path=\"url(#pcba564a79d)\" d=\"M 543.759135 550.8 \nL 582.780114 550.8 \nL 582.780114 526.146939 \nL 543.759135 526.146939 \nz\n\" style=\"fill:#ff7f0e;fill-opacity:0.5;\"/>\n   </g>\n   <g id=\"patch_16\">\n    <path clip-path=\"url(#pcba564a79d)\" d=\"M 75.507386 550.8 \nL 114.528365 550.8 \nL 114.528365 476.840816 \nL 75.507386 476.840816 \nz\n\" style=\"fill:#1f77b4;fill-opacity:0.5;\"/>\n   </g>\n   <g id=\"patch_17\">\n    <path clip-path=\"url(#pcba564a79d)\" d=\"M 114.528365 550.8 \nL 153.549344 550.8 \nL 153.549344 476.840816 \nL 114.528365 476.840816 \nz\n\" style=\"fill:#1f77b4;fill-opacity:0.5;\"/>\n   </g>\n   <g id=\"patch_18\">\n    <path clip-path=\"url(#pcba564a79d)\" d=\"M 153.549344 550.8 \nL 192.570323 550.8 \nL 192.570323 526.146939 \nL 153.549344 526.146939 \nz\n\" style=\"fill:#1f77b4;fill-opacity:0.5;\"/>\n   </g>\n   <g id=\"patch_19\">\n    <path clip-path=\"url(#pcba564a79d)\" d=\"M 192.570323 550.8 \nL 231.591302 550.8 \nL 231.591302 304.269388 \nL 192.570323 304.269388 \nz\n\" style=\"fill:#1f77b4;fill-opacity:0.5;\"/>\n   </g>\n   <g id=\"patch_20\">\n    <path clip-path=\"url(#pcba564a79d)\" d=\"M 231.591302 550.8 \nL 270.612281 550.8 \nL 270.612281 33.085714 \nL 231.591302 33.085714 \nz\n\" style=\"fill:#1f77b4;fill-opacity:0.5;\"/>\n   </g>\n   <g id=\"patch_21\">\n    <path clip-path=\"url(#pcba564a79d)\" d=\"M 270.612281 550.8 \nL 309.63326 550.8 \nL 309.63326 550.8 \nL 270.612281 550.8 \nz\n\" style=\"fill:#1f77b4;fill-opacity:0.5;\"/>\n   </g>\n   <g id=\"patch_22\">\n    <path clip-path=\"url(#pcba564a79d)\" d=\"M 309.63326 550.8 \nL 348.65424 550.8 \nL 348.65424 550.8 \nL 309.63326 550.8 \nz\n\" style=\"fill:#1f77b4;fill-opacity:0.5;\"/>\n   </g>\n   <g id=\"patch_23\">\n    <path clip-path=\"url(#pcba564a79d)\" d=\"M 348.65424 550.8 \nL 387.675219 550.8 \nL 387.675219 550.8 \nL 348.65424 550.8 \nz\n\" style=\"fill:#1f77b4;fill-opacity:0.5;\"/>\n   </g>\n   <g id=\"patch_24\">\n    <path clip-path=\"url(#pcba564a79d)\" d=\"M 387.675219 550.8 \nL 426.696198 550.8 \nL 426.696198 550.8 \nL 387.675219 550.8 \nz\n\" style=\"fill:#1f77b4;fill-opacity:0.5;\"/>\n   </g>\n   <g id=\"patch_25\">\n    <path clip-path=\"url(#pcba564a79d)\" d=\"M 426.696198 550.8 \nL 465.717177 550.8 \nL 465.717177 550.8 \nL 426.696198 550.8 \nz\n\" style=\"fill:#1f77b4;fill-opacity:0.5;\"/>\n   </g>\n   <g id=\"patch_26\">\n    <path clip-path=\"url(#pcba564a79d)\" d=\"M 465.717177 550.8 \nL 504.738156 550.8 \nL 504.738156 550.8 \nL 465.717177 550.8 \nz\n\" style=\"fill:#1f77b4;fill-opacity:0.5;\"/>\n   </g>\n   <g id=\"patch_27\">\n    <path clip-path=\"url(#pcba564a79d)\" d=\"M 504.738156 550.8 \nL 543.759135 550.8 \nL 543.759135 550.8 \nL 504.738156 550.8 \nz\n\" style=\"fill:#1f77b4;fill-opacity:0.5;\"/>\n   </g>\n   <g id=\"patch_28\">\n    <path clip-path=\"url(#pcba564a79d)\" d=\"M 543.759135 550.8 \nL 582.780114 550.8 \nL 582.780114 550.8 \nL 543.759135 550.8 \nz\n\" style=\"fill:#1f77b4;fill-opacity:0.5;\"/>\n   </g>\n   <g id=\"matplotlib.axis_1\">\n    <g id=\"xtick_1\">\n     <g id=\"line2d_1\">\n      <defs>\n       <path d=\"M 0 0 \nL 0 3.5 \n\" id=\"m382d6ce4d3\" style=\"stroke:#000000;stroke-width:0.8;\"/>\n      </defs>\n      <g>\n       <use style=\"stroke:#000000;stroke-width:0.8;\" x=\"124.093694\" xlink:href=\"#m382d6ce4d3\" y=\"550.8\"/>\n      </g>\n     </g>\n     <g id=\"text_1\">\n      <!-- −1.0 -->\n      <g transform=\"translate(111.952288 565.398438)scale(0.1 -0.1)\">\n       <defs>\n        <path d=\"M 678 2272 \nL 4684 2272 \nL 4684 1741 \nL 678 1741 \nL 678 2272 \nz\n\" id=\"DejaVuSans-2212\" transform=\"scale(0.015625)\"/>\n        <path d=\"M 794 531 \nL 1825 531 \nL 1825 4091 \nL 703 3866 \nL 703 4441 \nL 1819 4666 \nL 2450 4666 \nL 2450 531 \nL 3481 531 \nL 3481 0 \nL 794 0 \nL 794 531 \nz\n\" id=\"DejaVuSans-31\" transform=\"scale(0.015625)\"/>\n        <path d=\"M 684 794 \nL 1344 794 \nL 1344 0 \nL 684 0 \nL 684 794 \nz\n\" id=\"DejaVuSans-2e\" transform=\"scale(0.015625)\"/>\n        <path d=\"M 2034 4250 \nQ 1547 4250 1301 3770 \nQ 1056 3291 1056 2328 \nQ 1056 1369 1301 889 \nQ 1547 409 2034 409 \nQ 2525 409 2770 889 \nQ 3016 1369 3016 2328 \nQ 3016 3291 2770 3770 \nQ 2525 4250 2034 4250 \nz\nM 2034 4750 \nQ 2819 4750 3233 4129 \nQ 3647 3509 3647 2328 \nQ 3647 1150 3233 529 \nQ 2819 -91 2034 -91 \nQ 1250 -91 836 529 \nQ 422 1150 422 2328 \nQ 422 3509 836 4129 \nQ 1250 4750 2034 4750 \nz\n\" id=\"DejaVuSans-30\" transform=\"scale(0.015625)\"/>\n       </defs>\n       <use xlink:href=\"#DejaVuSans-2212\"/>\n       <use x=\"83.789062\" xlink:href=\"#DejaVuSans-31\"/>\n       <use x=\"147.412109\" xlink:href=\"#DejaVuSans-2e\"/>\n       <use x=\"179.199219\" xlink:href=\"#DejaVuSans-30\"/>\n      </g>\n     </g>\n    </g>\n    <g id=\"xtick_2\">\n     <g id=\"line2d_2\">\n      <g>\n       <use style=\"stroke:#000000;stroke-width:0.8;\" x=\"212.738196\" xlink:href=\"#m382d6ce4d3\" y=\"550.8\"/>\n      </g>\n     </g>\n     <g id=\"text_2\">\n      <!-- −0.5 -->\n      <g transform=\"translate(200.596789 565.398438)scale(0.1 -0.1)\">\n       <defs>\n        <path d=\"M 691 4666 \nL 3169 4666 \nL 3169 4134 \nL 1269 4134 \nL 1269 2991 \nQ 1406 3038 1543 3061 \nQ 1681 3084 1819 3084 \nQ 2600 3084 3056 2656 \nQ 3513 2228 3513 1497 \nQ 3513 744 3044 326 \nQ 2575 -91 1722 -91 \nQ 1428 -91 1123 -41 \nQ 819 9 494 109 \nL 494 744 \nQ 775 591 1075 516 \nQ 1375 441 1709 441 \nQ 2250 441 2565 725 \nQ 2881 1009 2881 1497 \nQ 2881 1984 2565 2268 \nQ 2250 2553 1709 2553 \nQ 1456 2553 1204 2497 \nQ 953 2441 691 2322 \nL 691 4666 \nz\n\" id=\"DejaVuSans-35\" transform=\"scale(0.015625)\"/>\n       </defs>\n       <use xlink:href=\"#DejaVuSans-2212\"/>\n       <use x=\"83.789062\" xlink:href=\"#DejaVuSans-30\"/>\n       <use x=\"147.412109\" xlink:href=\"#DejaVuSans-2e\"/>\n       <use x=\"179.199219\" xlink:href=\"#DejaVuSans-35\"/>\n      </g>\n     </g>\n    </g>\n    <g id=\"xtick_3\">\n     <g id=\"line2d_3\">\n      <g>\n       <use style=\"stroke:#000000;stroke-width:0.8;\" x=\"301.382697\" xlink:href=\"#m382d6ce4d3\" y=\"550.8\"/>\n      </g>\n     </g>\n     <g id=\"text_3\">\n      <!-- 0.0 -->\n      <g transform=\"translate(293.431135 565.398438)scale(0.1 -0.1)\">\n       <use xlink:href=\"#DejaVuSans-30\"/>\n       <use x=\"63.623047\" xlink:href=\"#DejaVuSans-2e\"/>\n       <use x=\"95.410156\" xlink:href=\"#DejaVuSans-30\"/>\n      </g>\n     </g>\n    </g>\n    <g id=\"xtick_4\">\n     <g id=\"line2d_4\">\n      <g>\n       <use style=\"stroke:#000000;stroke-width:0.8;\" x=\"390.027199\" xlink:href=\"#m382d6ce4d3\" y=\"550.8\"/>\n      </g>\n     </g>\n     <g id=\"text_4\">\n      <!-- 0.5 -->\n      <g transform=\"translate(382.075636 565.398438)scale(0.1 -0.1)\">\n       <use xlink:href=\"#DejaVuSans-30\"/>\n       <use x=\"63.623047\" xlink:href=\"#DejaVuSans-2e\"/>\n       <use x=\"95.410156\" xlink:href=\"#DejaVuSans-35\"/>\n      </g>\n     </g>\n    </g>\n    <g id=\"xtick_5\">\n     <g id=\"line2d_5\">\n      <g>\n       <use style=\"stroke:#000000;stroke-width:0.8;\" x=\"478.6717\" xlink:href=\"#m382d6ce4d3\" y=\"550.8\"/>\n      </g>\n     </g>\n     <g id=\"text_5\">\n      <!-- 1.0 -->\n      <g transform=\"translate(470.720138 565.398438)scale(0.1 -0.1)\">\n       <use xlink:href=\"#DejaVuSans-31\"/>\n       <use x=\"63.623047\" xlink:href=\"#DejaVuSans-2e\"/>\n       <use x=\"95.410156\" xlink:href=\"#DejaVuSans-30\"/>\n      </g>\n     </g>\n    </g>\n    <g id=\"xtick_6\">\n     <g id=\"line2d_6\">\n      <g>\n       <use style=\"stroke:#000000;stroke-width:0.8;\" x=\"567.316202\" xlink:href=\"#m382d6ce4d3\" y=\"550.8\"/>\n      </g>\n     </g>\n     <g id=\"text_6\">\n      <!-- 1.5 -->\n      <g transform=\"translate(559.364639 565.398438)scale(0.1 -0.1)\">\n       <use xlink:href=\"#DejaVuSans-31\"/>\n       <use x=\"63.623047\" xlink:href=\"#DejaVuSans-2e\"/>\n       <use x=\"95.410156\" xlink:href=\"#DejaVuSans-35\"/>\n      </g>\n     </g>\n    </g>\n    <g id=\"text_7\">\n     <!-- log2FC -->\n     <g transform=\"translate(311.972656 579.076563)scale(0.1 -0.1)\">\n      <defs>\n       <path d=\"M 603 4863 \nL 1178 4863 \nL 1178 0 \nL 603 0 \nL 603 4863 \nz\n\" id=\"DejaVuSans-6c\" transform=\"scale(0.015625)\"/>\n       <path d=\"M 1959 3097 \nQ 1497 3097 1228 2736 \nQ 959 2375 959 1747 \nQ 959 1119 1226 758 \nQ 1494 397 1959 397 \nQ 2419 397 2687 759 \nQ 2956 1122 2956 1747 \nQ 2956 2369 2687 2733 \nQ 2419 3097 1959 3097 \nz\nM 1959 3584 \nQ 2709 3584 3137 3096 \nQ 3566 2609 3566 1747 \nQ 3566 888 3137 398 \nQ 2709 -91 1959 -91 \nQ 1206 -91 779 398 \nQ 353 888 353 1747 \nQ 353 2609 779 3096 \nQ 1206 3584 1959 3584 \nz\n\" id=\"DejaVuSans-6f\" transform=\"scale(0.015625)\"/>\n       <path d=\"M 2906 1791 \nQ 2906 2416 2648 2759 \nQ 2391 3103 1925 3103 \nQ 1463 3103 1205 2759 \nQ 947 2416 947 1791 \nQ 947 1169 1205 825 \nQ 1463 481 1925 481 \nQ 2391 481 2648 825 \nQ 2906 1169 2906 1791 \nz\nM 3481 434 \nQ 3481 -459 3084 -895 \nQ 2688 -1331 1869 -1331 \nQ 1566 -1331 1297 -1286 \nQ 1028 -1241 775 -1147 \nL 775 -588 \nQ 1028 -725 1275 -790 \nQ 1522 -856 1778 -856 \nQ 2344 -856 2625 -561 \nQ 2906 -266 2906 331 \nL 2906 616 \nQ 2728 306 2450 153 \nQ 2172 0 1784 0 \nQ 1141 0 747 490 \nQ 353 981 353 1791 \nQ 353 2603 747 3093 \nQ 1141 3584 1784 3584 \nQ 2172 3584 2450 3431 \nQ 2728 3278 2906 2969 \nL 2906 3500 \nL 3481 3500 \nL 3481 434 \nz\n\" id=\"DejaVuSans-67\" transform=\"scale(0.015625)\"/>\n       <path d=\"M 1228 531 \nL 3431 531 \nL 3431 0 \nL 469 0 \nL 469 531 \nQ 828 903 1448 1529 \nQ 2069 2156 2228 2338 \nQ 2531 2678 2651 2914 \nQ 2772 3150 2772 3378 \nQ 2772 3750 2511 3984 \nQ 2250 4219 1831 4219 \nQ 1534 4219 1204 4116 \nQ 875 4013 500 3803 \nL 500 4441 \nQ 881 4594 1212 4672 \nQ 1544 4750 1819 4750 \nQ 2544 4750 2975 4387 \nQ 3406 4025 3406 3419 \nQ 3406 3131 3298 2873 \nQ 3191 2616 2906 2266 \nQ 2828 2175 2409 1742 \nQ 1991 1309 1228 531 \nz\n\" id=\"DejaVuSans-32\" transform=\"scale(0.015625)\"/>\n       <path d=\"M 628 4666 \nL 3309 4666 \nL 3309 4134 \nL 1259 4134 \nL 1259 2759 \nL 3109 2759 \nL 3109 2228 \nL 1259 2228 \nL 1259 0 \nL 628 0 \nL 628 4666 \nz\n\" id=\"DejaVuSans-46\" transform=\"scale(0.015625)\"/>\n       <path d=\"M 4122 4306 \nL 4122 3641 \nQ 3803 3938 3442 4084 \nQ 3081 4231 2675 4231 \nQ 1875 4231 1450 3742 \nQ 1025 3253 1025 2328 \nQ 1025 1406 1450 917 \nQ 1875 428 2675 428 \nQ 3081 428 3442 575 \nQ 3803 722 4122 1019 \nL 4122 359 \nQ 3791 134 3420 21 \nQ 3050 -91 2638 -91 \nQ 1578 -91 968 557 \nQ 359 1206 359 2328 \nQ 359 3453 968 4101 \nQ 1578 4750 2638 4750 \nQ 3056 4750 3426 4639 \nQ 3797 4528 4122 4306 \nz\n\" id=\"DejaVuSans-43\" transform=\"scale(0.015625)\"/>\n      </defs>\n      <use xlink:href=\"#DejaVuSans-6c\"/>\n      <use x=\"27.783203\" xlink:href=\"#DejaVuSans-6f\"/>\n      <use x=\"88.964844\" xlink:href=\"#DejaVuSans-67\"/>\n      <use x=\"152.441406\" xlink:href=\"#DejaVuSans-32\"/>\n      <use x=\"216.064453\" xlink:href=\"#DejaVuSans-46\"/>\n      <use x=\"273.583984\" xlink:href=\"#DejaVuSans-43\"/>\n     </g>\n    </g>\n   </g>\n   <g id=\"matplotlib.axis_2\">\n    <g id=\"ytick_1\">\n     <g id=\"line2d_7\">\n      <defs>\n       <path d=\"M 0 0 \nL -3.5 0 \n\" id=\"m0eb7684c6d\" style=\"stroke:#000000;stroke-width:0.8;\"/>\n      </defs>\n      <g>\n       <use style=\"stroke:#000000;stroke-width:0.8;\" x=\"50.14375\" xlink:href=\"#m0eb7684c6d\" y=\"550.8\"/>\n      </g>\n     </g>\n     <g id=\"text_8\">\n      <!-- 0.0 -->\n      <g transform=\"translate(27.240625 554.599219)scale(0.1 -0.1)\">\n       <use xlink:href=\"#DejaVuSans-30\"/>\n       <use x=\"63.623047\" xlink:href=\"#DejaVuSans-2e\"/>\n       <use x=\"95.410156\" xlink:href=\"#DejaVuSans-30\"/>\n      </g>\n     </g>\n    </g>\n    <g id=\"ytick_2\">\n     <g id=\"line2d_8\">\n      <g>\n       <use style=\"stroke:#000000;stroke-width:0.8;\" x=\"50.14375\" xlink:href=\"#m0eb7684c6d\" y=\"489.167347\"/>\n      </g>\n     </g>\n     <g id=\"text_9\">\n      <!-- 2.5 -->\n      <g transform=\"translate(27.240625 492.966566)scale(0.1 -0.1)\">\n       <use xlink:href=\"#DejaVuSans-32\"/>\n       <use x=\"63.623047\" xlink:href=\"#DejaVuSans-2e\"/>\n       <use x=\"95.410156\" xlink:href=\"#DejaVuSans-35\"/>\n      </g>\n     </g>\n    </g>\n    <g id=\"ytick_3\">\n     <g id=\"line2d_9\">\n      <g>\n       <use style=\"stroke:#000000;stroke-width:0.8;\" x=\"50.14375\" xlink:href=\"#m0eb7684c6d\" y=\"427.534694\"/>\n      </g>\n     </g>\n     <g id=\"text_10\">\n      <!-- 5.0 -->\n      <g transform=\"translate(27.240625 431.333913)scale(0.1 -0.1)\">\n       <use xlink:href=\"#DejaVuSans-35\"/>\n       <use x=\"63.623047\" xlink:href=\"#DejaVuSans-2e\"/>\n       <use x=\"95.410156\" xlink:href=\"#DejaVuSans-30\"/>\n      </g>\n     </g>\n    </g>\n    <g id=\"ytick_4\">\n     <g id=\"line2d_10\">\n      <g>\n       <use style=\"stroke:#000000;stroke-width:0.8;\" x=\"50.14375\" xlink:href=\"#m0eb7684c6d\" y=\"365.902041\"/>\n      </g>\n     </g>\n     <g id=\"text_11\">\n      <!-- 7.5 -->\n      <g transform=\"translate(27.240625 369.70126)scale(0.1 -0.1)\">\n       <defs>\n        <path d=\"M 525 4666 \nL 3525 4666 \nL 3525 4397 \nL 1831 0 \nL 1172 0 \nL 2766 4134 \nL 525 4134 \nL 525 4666 \nz\n\" id=\"DejaVuSans-37\" transform=\"scale(0.015625)\"/>\n       </defs>\n       <use xlink:href=\"#DejaVuSans-37\"/>\n       <use x=\"63.623047\" xlink:href=\"#DejaVuSans-2e\"/>\n       <use x=\"95.410156\" xlink:href=\"#DejaVuSans-35\"/>\n      </g>\n     </g>\n    </g>\n    <g id=\"ytick_5\">\n     <g id=\"line2d_11\">\n      <g>\n       <use style=\"stroke:#000000;stroke-width:0.8;\" x=\"50.14375\" xlink:href=\"#m0eb7684c6d\" y=\"304.269388\"/>\n      </g>\n     </g>\n     <g id=\"text_12\">\n      <!-- 10.0 -->\n      <g transform=\"translate(20.878125 308.068607)scale(0.1 -0.1)\">\n       <use xlink:href=\"#DejaVuSans-31\"/>\n       <use x=\"63.623047\" xlink:href=\"#DejaVuSans-30\"/>\n       <use x=\"127.246094\" xlink:href=\"#DejaVuSans-2e\"/>\n       <use x=\"159.033203\" xlink:href=\"#DejaVuSans-30\"/>\n      </g>\n     </g>\n    </g>\n    <g id=\"ytick_6\">\n     <g id=\"line2d_12\">\n      <g>\n       <use style=\"stroke:#000000;stroke-width:0.8;\" x=\"50.14375\" xlink:href=\"#m0eb7684c6d\" y=\"242.636735\"/>\n      </g>\n     </g>\n     <g id=\"text_13\">\n      <!-- 12.5 -->\n      <g transform=\"translate(20.878125 246.435953)scale(0.1 -0.1)\">\n       <use xlink:href=\"#DejaVuSans-31\"/>\n       <use x=\"63.623047\" xlink:href=\"#DejaVuSans-32\"/>\n       <use x=\"127.246094\" xlink:href=\"#DejaVuSans-2e\"/>\n       <use x=\"159.033203\" xlink:href=\"#DejaVuSans-35\"/>\n      </g>\n     </g>\n    </g>\n    <g id=\"ytick_7\">\n     <g id=\"line2d_13\">\n      <g>\n       <use style=\"stroke:#000000;stroke-width:0.8;\" x=\"50.14375\" xlink:href=\"#m0eb7684c6d\" y=\"181.004082\"/>\n      </g>\n     </g>\n     <g id=\"text_14\">\n      <!-- 15.0 -->\n      <g transform=\"translate(20.878125 184.8033)scale(0.1 -0.1)\">\n       <use xlink:href=\"#DejaVuSans-31\"/>\n       <use x=\"63.623047\" xlink:href=\"#DejaVuSans-35\"/>\n       <use x=\"127.246094\" xlink:href=\"#DejaVuSans-2e\"/>\n       <use x=\"159.033203\" xlink:href=\"#DejaVuSans-30\"/>\n      </g>\n     </g>\n    </g>\n    <g id=\"ytick_8\">\n     <g id=\"line2d_14\">\n      <g>\n       <use style=\"stroke:#000000;stroke-width:0.8;\" x=\"50.14375\" xlink:href=\"#m0eb7684c6d\" y=\"119.371429\"/>\n      </g>\n     </g>\n     <g id=\"text_15\">\n      <!-- 17.5 -->\n      <g transform=\"translate(20.878125 123.170647)scale(0.1 -0.1)\">\n       <use xlink:href=\"#DejaVuSans-31\"/>\n       <use x=\"63.623047\" xlink:href=\"#DejaVuSans-37\"/>\n       <use x=\"127.246094\" xlink:href=\"#DejaVuSans-2e\"/>\n       <use x=\"159.033203\" xlink:href=\"#DejaVuSans-35\"/>\n      </g>\n     </g>\n    </g>\n    <g id=\"ytick_9\">\n     <g id=\"line2d_15\">\n      <g>\n       <use style=\"stroke:#000000;stroke-width:0.8;\" x=\"50.14375\" xlink:href=\"#m0eb7684c6d\" y=\"57.738776\"/>\n      </g>\n     </g>\n     <g id=\"text_16\">\n      <!-- 20.0 -->\n      <g transform=\"translate(20.878125 61.537994)scale(0.1 -0.1)\">\n       <use xlink:href=\"#DejaVuSans-32\"/>\n       <use x=\"63.623047\" xlink:href=\"#DejaVuSans-30\"/>\n       <use x=\"127.246094\" xlink:href=\"#DejaVuSans-2e\"/>\n       <use x=\"159.033203\" xlink:href=\"#DejaVuSans-30\"/>\n      </g>\n     </g>\n    </g>\n    <g id=\"text_17\">\n     <!-- Count -->\n     <g transform=\"translate(14.798437 293.848438)rotate(-90)scale(0.1 -0.1)\">\n      <defs>\n       <path d=\"M 544 1381 \nL 544 3500 \nL 1119 3500 \nL 1119 1403 \nQ 1119 906 1312 657 \nQ 1506 409 1894 409 \nQ 2359 409 2629 706 \nQ 2900 1003 2900 1516 \nL 2900 3500 \nL 3475 3500 \nL 3475 0 \nL 2900 0 \nL 2900 538 \nQ 2691 219 2414 64 \nQ 2138 -91 1772 -91 \nQ 1169 -91 856 284 \nQ 544 659 544 1381 \nz\nM 1991 3584 \nL 1991 3584 \nz\n\" id=\"DejaVuSans-75\" transform=\"scale(0.015625)\"/>\n       <path d=\"M 3513 2113 \nL 3513 0 \nL 2938 0 \nL 2938 2094 \nQ 2938 2591 2744 2837 \nQ 2550 3084 2163 3084 \nQ 1697 3084 1428 2787 \nQ 1159 2491 1159 1978 \nL 1159 0 \nL 581 0 \nL 581 3500 \nL 1159 3500 \nL 1159 2956 \nQ 1366 3272 1645 3428 \nQ 1925 3584 2291 3584 \nQ 2894 3584 3203 3211 \nQ 3513 2838 3513 2113 \nz\n\" id=\"DejaVuSans-6e\" transform=\"scale(0.015625)\"/>\n       <path d=\"M 1172 4494 \nL 1172 3500 \nL 2356 3500 \nL 2356 3053 \nL 1172 3053 \nL 1172 1153 \nQ 1172 725 1289 603 \nQ 1406 481 1766 481 \nL 2356 481 \nL 2356 0 \nL 1766 0 \nQ 1100 0 847 248 \nQ 594 497 594 1153 \nL 594 3053 \nL 172 3053 \nL 172 3500 \nL 594 3500 \nL 594 4494 \nL 1172 4494 \nz\n\" id=\"DejaVuSans-74\" transform=\"scale(0.015625)\"/>\n      </defs>\n      <use xlink:href=\"#DejaVuSans-43\"/>\n      <use x=\"69.824219\" xlink:href=\"#DejaVuSans-6f\"/>\n      <use x=\"131.005859\" xlink:href=\"#DejaVuSans-75\"/>\n      <use x=\"194.384766\" xlink:href=\"#DejaVuSans-6e\"/>\n      <use x=\"257.763672\" xlink:href=\"#DejaVuSans-74\"/>\n     </g>\n    </g>\n   </g>\n   <g id=\"patch_29\">\n    <path d=\"M 50.14375 550.8 \nL 50.14375 7.2 \n\" style=\"fill:none;stroke:#000000;stroke-linecap:square;stroke-linejoin:miter;stroke-width:0.8;\"/>\n   </g>\n   <g id=\"patch_30\">\n    <path d=\"M 608.14375 550.8 \nL 608.14375 7.2 \n\" style=\"fill:none;stroke:#000000;stroke-linecap:square;stroke-linejoin:miter;stroke-width:0.8;\"/>\n   </g>\n   <g id=\"patch_31\">\n    <path d=\"M 50.14375 550.8 \nL 608.14375 550.8 \n\" style=\"fill:none;stroke:#000000;stroke-linecap:square;stroke-linejoin:miter;stroke-width:0.8;\"/>\n   </g>\n   <g id=\"patch_32\">\n    <path d=\"M 50.14375 7.2 \nL 608.14375 7.2 \n\" style=\"fill:none;stroke:#000000;stroke-linecap:square;stroke-linejoin:miter;stroke-width:0.8;\"/>\n   </g>\n   <g id=\"legend_1\">\n    <g id=\"patch_33\">\n     <path d=\"M 473.576563 59.5125 \nL 601.14375 59.5125 \nQ 603.14375 59.5125 603.14375 57.5125 \nL 603.14375 14.2 \nQ 603.14375 12.2 601.14375 12.2 \nL 473.576563 12.2 \nQ 471.576563 12.2 471.576563 14.2 \nL 471.576563 57.5125 \nQ 471.576563 59.5125 473.576563 59.5125 \nz\n\" style=\"fill:#ffffff;opacity:0.8;stroke:#cccccc;stroke-linejoin:miter;\"/>\n    </g>\n    <g id=\"text_18\">\n     <!-- MPRA_validated_silencer -->\n     <g transform=\"translate(475.576563 23.798438)scale(0.1 -0.1)\">\n      <defs>\n       <path d=\"M 628 4666 \nL 1569 4666 \nL 2759 1491 \nL 3956 4666 \nL 4897 4666 \nL 4897 0 \nL 4281 0 \nL 4281 4097 \nL 3078 897 \nL 2444 897 \nL 1241 4097 \nL 1241 0 \nL 628 0 \nL 628 4666 \nz\n\" id=\"DejaVuSans-4d\" transform=\"scale(0.015625)\"/>\n       <path d=\"M 1259 4147 \nL 1259 2394 \nL 2053 2394 \nQ 2494 2394 2734 2622 \nQ 2975 2850 2975 3272 \nQ 2975 3691 2734 3919 \nQ 2494 4147 2053 4147 \nL 1259 4147 \nz\nM 628 4666 \nL 2053 4666 \nQ 2838 4666 3239 4311 \nQ 3641 3956 3641 3272 \nQ 3641 2581 3239 2228 \nQ 2838 1875 2053 1875 \nL 1259 1875 \nL 1259 0 \nL 628 0 \nL 628 4666 \nz\n\" id=\"DejaVuSans-50\" transform=\"scale(0.015625)\"/>\n       <path d=\"M 2841 2188 \nQ 3044 2119 3236 1894 \nQ 3428 1669 3622 1275 \nL 4263 0 \nL 3584 0 \nL 2988 1197 \nQ 2756 1666 2539 1819 \nQ 2322 1972 1947 1972 \nL 1259 1972 \nL 1259 0 \nL 628 0 \nL 628 4666 \nL 2053 4666 \nQ 2853 4666 3247 4331 \nQ 3641 3997 3641 3322 \nQ 3641 2881 3436 2590 \nQ 3231 2300 2841 2188 \nz\nM 1259 4147 \nL 1259 2491 \nL 2053 2491 \nQ 2509 2491 2742 2702 \nQ 2975 2913 2975 3322 \nQ 2975 3731 2742 3939 \nQ 2509 4147 2053 4147 \nL 1259 4147 \nz\n\" id=\"DejaVuSans-52\" transform=\"scale(0.015625)\"/>\n       <path d=\"M 2188 4044 \nL 1331 1722 \nL 3047 1722 \nL 2188 4044 \nz\nM 1831 4666 \nL 2547 4666 \nL 4325 0 \nL 3669 0 \nL 3244 1197 \nL 1141 1197 \nL 716 0 \nL 50 0 \nL 1831 4666 \nz\n\" id=\"DejaVuSans-41\" transform=\"scale(0.015625)\"/>\n       <path d=\"M 3263 -1063 \nL 3263 -1509 \nL -63 -1509 \nL -63 -1063 \nL 3263 -1063 \nz\n\" id=\"DejaVuSans-5f\" transform=\"scale(0.015625)\"/>\n       <path d=\"M 191 3500 \nL 800 3500 \nL 1894 563 \nL 2988 3500 \nL 3597 3500 \nL 2284 0 \nL 1503 0 \nL 191 3500 \nz\n\" id=\"DejaVuSans-76\" transform=\"scale(0.015625)\"/>\n       <path d=\"M 2194 1759 \nQ 1497 1759 1228 1600 \nQ 959 1441 959 1056 \nQ 959 750 1161 570 \nQ 1363 391 1709 391 \nQ 2188 391 2477 730 \nQ 2766 1069 2766 1631 \nL 2766 1759 \nL 2194 1759 \nz\nM 3341 1997 \nL 3341 0 \nL 2766 0 \nL 2766 531 \nQ 2569 213 2275 61 \nQ 1981 -91 1556 -91 \nQ 1019 -91 701 211 \nQ 384 513 384 1019 \nQ 384 1609 779 1909 \nQ 1175 2209 1959 2209 \nL 2766 2209 \nL 2766 2266 \nQ 2766 2663 2505 2880 \nQ 2244 3097 1772 3097 \nQ 1472 3097 1187 3025 \nQ 903 2953 641 2809 \nL 641 3341 \nQ 956 3463 1253 3523 \nQ 1550 3584 1831 3584 \nQ 2591 3584 2966 3190 \nQ 3341 2797 3341 1997 \nz\n\" id=\"DejaVuSans-61\" transform=\"scale(0.015625)\"/>\n       <path d=\"M 603 3500 \nL 1178 3500 \nL 1178 0 \nL 603 0 \nL 603 3500 \nz\nM 603 4863 \nL 1178 4863 \nL 1178 4134 \nL 603 4134 \nL 603 4863 \nz\n\" id=\"DejaVuSans-69\" transform=\"scale(0.015625)\"/>\n       <path d=\"M 2906 2969 \nL 2906 4863 \nL 3481 4863 \nL 3481 0 \nL 2906 0 \nL 2906 525 \nQ 2725 213 2448 61 \nQ 2172 -91 1784 -91 \nQ 1150 -91 751 415 \nQ 353 922 353 1747 \nQ 353 2572 751 3078 \nQ 1150 3584 1784 3584 \nQ 2172 3584 2448 3432 \nQ 2725 3281 2906 2969 \nz\nM 947 1747 \nQ 947 1113 1208 752 \nQ 1469 391 1925 391 \nQ 2381 391 2643 752 \nQ 2906 1113 2906 1747 \nQ 2906 2381 2643 2742 \nQ 2381 3103 1925 3103 \nQ 1469 3103 1208 2742 \nQ 947 2381 947 1747 \nz\n\" id=\"DejaVuSans-64\" transform=\"scale(0.015625)\"/>\n       <path d=\"M 3597 1894 \nL 3597 1613 \nL 953 1613 \nQ 991 1019 1311 708 \nQ 1631 397 2203 397 \nQ 2534 397 2845 478 \nQ 3156 559 3463 722 \nL 3463 178 \nQ 3153 47 2828 -22 \nQ 2503 -91 2169 -91 \nQ 1331 -91 842 396 \nQ 353 884 353 1716 \nQ 353 2575 817 3079 \nQ 1281 3584 2069 3584 \nQ 2775 3584 3186 3129 \nQ 3597 2675 3597 1894 \nz\nM 3022 2063 \nQ 3016 2534 2758 2815 \nQ 2500 3097 2075 3097 \nQ 1594 3097 1305 2825 \nQ 1016 2553 972 2059 \nL 3022 2063 \nz\n\" id=\"DejaVuSans-65\" transform=\"scale(0.015625)\"/>\n       <path d=\"M 2834 3397 \nL 2834 2853 \nQ 2591 2978 2328 3040 \nQ 2066 3103 1784 3103 \nQ 1356 3103 1142 2972 \nQ 928 2841 928 2578 \nQ 928 2378 1081 2264 \nQ 1234 2150 1697 2047 \nL 1894 2003 \nQ 2506 1872 2764 1633 \nQ 3022 1394 3022 966 \nQ 3022 478 2636 193 \nQ 2250 -91 1575 -91 \nQ 1294 -91 989 -36 \nQ 684 19 347 128 \nL 347 722 \nQ 666 556 975 473 \nQ 1284 391 1588 391 \nQ 1994 391 2212 530 \nQ 2431 669 2431 922 \nQ 2431 1156 2273 1281 \nQ 2116 1406 1581 1522 \nL 1381 1569 \nQ 847 1681 609 1914 \nQ 372 2147 372 2553 \nQ 372 3047 722 3315 \nQ 1072 3584 1716 3584 \nQ 2034 3584 2315 3537 \nQ 2597 3491 2834 3397 \nz\n\" id=\"DejaVuSans-73\" transform=\"scale(0.015625)\"/>\n       <path d=\"M 3122 3366 \nL 3122 2828 \nQ 2878 2963 2633 3030 \nQ 2388 3097 2138 3097 \nQ 1578 3097 1268 2742 \nQ 959 2388 959 1747 \nQ 959 1106 1268 751 \nQ 1578 397 2138 397 \nQ 2388 397 2633 464 \nQ 2878 531 3122 666 \nL 3122 134 \nQ 2881 22 2623 -34 \nQ 2366 -91 2075 -91 \nQ 1284 -91 818 406 \nQ 353 903 353 1747 \nQ 353 2603 823 3093 \nQ 1294 3584 2113 3584 \nQ 2378 3584 2631 3529 \nQ 2884 3475 3122 3366 \nz\n\" id=\"DejaVuSans-63\" transform=\"scale(0.015625)\"/>\n       <path d=\"M 2631 2963 \nQ 2534 3019 2420 3045 \nQ 2306 3072 2169 3072 \nQ 1681 3072 1420 2755 \nQ 1159 2438 1159 1844 \nL 1159 0 \nL 581 0 \nL 581 3500 \nL 1159 3500 \nL 1159 2956 \nQ 1341 3275 1631 3429 \nQ 1922 3584 2338 3584 \nQ 2397 3584 2469 3576 \nQ 2541 3569 2628 3553 \nL 2631 2963 \nz\n\" id=\"DejaVuSans-72\" transform=\"scale(0.015625)\"/>\n      </defs>\n      <use xlink:href=\"#DejaVuSans-4d\"/>\n      <use x=\"86.279297\" xlink:href=\"#DejaVuSans-50\"/>\n      <use x=\"146.582031\" xlink:href=\"#DejaVuSans-52\"/>\n      <use x=\"212.064453\" xlink:href=\"#DejaVuSans-41\"/>\n      <use x=\"280.472656\" xlink:href=\"#DejaVuSans-5f\"/>\n      <use x=\"330.472656\" xlink:href=\"#DejaVuSans-76\"/>\n      <use x=\"389.652344\" xlink:href=\"#DejaVuSans-61\"/>\n      <use x=\"450.931641\" xlink:href=\"#DejaVuSans-6c\"/>\n      <use x=\"478.714844\" xlink:href=\"#DejaVuSans-69\"/>\n      <use x=\"506.498047\" xlink:href=\"#DejaVuSans-64\"/>\n      <use x=\"569.974609\" xlink:href=\"#DejaVuSans-61\"/>\n      <use x=\"631.253906\" xlink:href=\"#DejaVuSans-74\"/>\n      <use x=\"670.462891\" xlink:href=\"#DejaVuSans-65\"/>\n      <use x=\"731.986328\" xlink:href=\"#DejaVuSans-64\"/>\n      <use x=\"795.462891\" xlink:href=\"#DejaVuSans-5f\"/>\n      <use x=\"845.462891\" xlink:href=\"#DejaVuSans-73\"/>\n      <use x=\"897.5625\" xlink:href=\"#DejaVuSans-69\"/>\n      <use x=\"925.345703\" xlink:href=\"#DejaVuSans-6c\"/>\n      <use x=\"953.128906\" xlink:href=\"#DejaVuSans-65\"/>\n      <use x=\"1014.652344\" xlink:href=\"#DejaVuSans-6e\"/>\n      <use x=\"1078.03125\" xlink:href=\"#DejaVuSans-63\"/>\n      <use x=\"1133.011719\" xlink:href=\"#DejaVuSans-65\"/>\n      <use x=\"1194.535156\" xlink:href=\"#DejaVuSans-72\"/>\n     </g>\n    </g>\n    <g id=\"patch_34\">\n     <path d=\"M 513.972656 38.754688 \nL 533.972656 38.754688 \nL 533.972656 31.754688 \nL 513.972656 31.754688 \nz\n\" style=\"fill:#1f77b4;fill-opacity:0.5;\"/>\n    </g>\n    <g id=\"text_19\">\n     <!-- YES -->\n     <g transform=\"translate(541.972656 38.754688)scale(0.1 -0.1)\">\n      <defs>\n       <path d=\"M -13 4666 \nL 666 4666 \nL 1959 2747 \nL 3244 4666 \nL 3922 4666 \nL 2272 2222 \nL 2272 0 \nL 1638 0 \nL 1638 2222 \nL -13 4666 \nz\n\" id=\"DejaVuSans-59\" transform=\"scale(0.015625)\"/>\n       <path d=\"M 628 4666 \nL 3578 4666 \nL 3578 4134 \nL 1259 4134 \nL 1259 2753 \nL 3481 2753 \nL 3481 2222 \nL 1259 2222 \nL 1259 531 \nL 3634 531 \nL 3634 0 \nL 628 0 \nL 628 4666 \nz\n\" id=\"DejaVuSans-45\" transform=\"scale(0.015625)\"/>\n       <path d=\"M 3425 4513 \nL 3425 3897 \nQ 3066 4069 2747 4153 \nQ 2428 4238 2131 4238 \nQ 1616 4238 1336 4038 \nQ 1056 3838 1056 3469 \nQ 1056 3159 1242 3001 \nQ 1428 2844 1947 2747 \nL 2328 2669 \nQ 3034 2534 3370 2195 \nQ 3706 1856 3706 1288 \nQ 3706 609 3251 259 \nQ 2797 -91 1919 -91 \nQ 1588 -91 1214 -16 \nQ 841 59 441 206 \nL 441 856 \nQ 825 641 1194 531 \nQ 1563 422 1919 422 \nQ 2459 422 2753 634 \nQ 3047 847 3047 1241 \nQ 3047 1584 2836 1778 \nQ 2625 1972 2144 2069 \nL 1759 2144 \nQ 1053 2284 737 2584 \nQ 422 2884 422 3419 \nQ 422 4038 858 4394 \nQ 1294 4750 2059 4750 \nQ 2388 4750 2728 4690 \nQ 3069 4631 3425 4513 \nz\n\" id=\"DejaVuSans-53\" transform=\"scale(0.015625)\"/>\n      </defs>\n      <use xlink:href=\"#DejaVuSans-59\"/>\n      <use x=\"61.083984\" xlink:href=\"#DejaVuSans-45\"/>\n      <use x=\"124.267578\" xlink:href=\"#DejaVuSans-53\"/>\n     </g>\n    </g>\n    <g id=\"patch_35\">\n     <path d=\"M 513.972656 53.432813 \nL 533.972656 53.432813 \nL 533.972656 46.432813 \nL 513.972656 46.432813 \nz\n\" style=\"fill:#ff7f0e;fill-opacity:0.5;\"/>\n    </g>\n    <g id=\"text_20\">\n     <!-- NO -->\n     <g transform=\"translate(541.972656 53.432813)scale(0.1 -0.1)\">\n      <defs>\n       <path d=\"M 628 4666 \nL 1478 4666 \nL 3547 763 \nL 3547 4666 \nL 4159 4666 \nL 4159 0 \nL 3309 0 \nL 1241 3903 \nL 1241 0 \nL 628 0 \nL 628 4666 \nz\n\" id=\"DejaVuSans-4e\" transform=\"scale(0.015625)\"/>\n       <path d=\"M 2522 4238 \nQ 1834 4238 1429 3725 \nQ 1025 3213 1025 2328 \nQ 1025 1447 1429 934 \nQ 1834 422 2522 422 \nQ 3209 422 3611 934 \nQ 4013 1447 4013 2328 \nQ 4013 3213 3611 3725 \nQ 3209 4238 2522 4238 \nz\nM 2522 4750 \nQ 3503 4750 4090 4092 \nQ 4678 3434 4678 2328 \nQ 4678 1225 4090 567 \nQ 3503 -91 2522 -91 \nQ 1538 -91 948 565 \nQ 359 1222 359 2328 \nQ 359 3434 948 4092 \nQ 1538 4750 2522 4750 \nz\n\" id=\"DejaVuSans-4f\" transform=\"scale(0.015625)\"/>\n      </defs>\n      <use xlink:href=\"#DejaVuSans-4e\"/>\n      <use x=\"74.804688\" xlink:href=\"#DejaVuSans-4f\"/>\n     </g>\n    </g>\n   </g>\n  </g>\n </g>\n <defs>\n  <clipPath id=\"pcba564a79d\">\n   <rect height=\"543.6\" width=\"558\" x=\"50.14375\" y=\"7.2\"/>\n  </clipPath>\n </defs>\n</svg>\n",
      "image/png": "[encoded data removed]"
     },
     "metadata": {
      "needs_background": "light"
     }
    }
   ],
   "source": [
    "import seaborn as sns\n",
    "import matplotlib.pyplot as plt\n",
    "# plot\n",
    "fig, ax = plt.subplots(figsize=(10, 10))\n",
    "sns.histplot(data=s2_df, x='log2FC', hue='MPRA_validated_silencer', stat='count', edgecolor=None)\n",
    "# ax.set_title('Glucose')"
   ]
  },
  {
   "source": [
    "DeepSilencer data:\n",
    "    - will try regression instead..."
   ],
   "cell_type": "markdown",
   "metadata": {}
  },
  {
   "cell_type": "code",
   "execution_count": 3,
   "metadata": {},
   "outputs": [
    {
     "output_type": "execute_result",
     "data": {
      "text/plain": [
       "<AxesSubplot:xlabel='log2FC', ylabel='Count'>"
      ]
     },
     "metadata": {},
     "execution_count": 3
    },
    {
     "output_type": "display_data",
     "data": {
      "text/plain": "<Figure size 432x288 with 1 Axes>",
      "image/svg+xml": "<?xml version=\"1.0\" encoding=\"utf-8\" standalone=\"no\"?>\n<!DOCTYPE svg PUBLIC \"-//W3C//DTD SVG 1.1//EN\"\n  \"http://www.w3.org/Graphics/SVG/1.1/DTD/svg11.dtd\">\n<svg height=\"262.19625pt\" version=\"1.1\" viewBox=\"0 0 382.603125 262.19625\" width=\"382.603125pt\" xmlns=\"http://www.w3.org/2000/svg\" xmlns:xlink=\"http://www.w3.org/1999/xlink\">\n <metadata>\n  <rdf:RDF xmlns:cc=\"http://creativecommons.org/ns#\" xmlns:dc=\"http://purl.org/dc/elements/1.1/\" xmlns:rdf=\"http://www.w3.org/1999/02/22-rdf-syntax-ns#\">\n   <cc:Work>\n    <dc:type rdf:resource=\"http://purl.org/dc/dcmitype/StillImage\"/>\n    <dc:date>2021-06-24T10:20:02.479976</dc:date>\n    <dc:format>image/svg+xml</dc:format>\n    <dc:creator>\n     <cc:Agent>\n      <dc:title>Matplotlib v3.4.2, https://matplotlib.org/</dc:title>\n     </cc:Agent>\n    </dc:creator>\n   </cc:Work>\n  </rdf:RDF>\n </metadata>\n <defs>\n  <style type=\"text/css\">*{stroke-linecap:butt;stroke-linejoin:round;}</style>\n </defs>\n <g id=\"figure_1\">\n  <g id=\"patch_1\">\n   <path d=\"M 0 262.19625 \nL 382.603125 262.19625 \nL 382.603125 0 \nL 0 0 \nz\n\" style=\"fill:none;\"/>\n  </g>\n  <g id=\"axes_1\">\n   <g id=\"patch_2\">\n    <path d=\"M 40.603125 224.64 \nL 375.403125 224.64 \nL 375.403125 7.2 \nL 40.603125 7.2 \nz\n\" style=\"fill:#ffffff;\"/>\n   </g>\n   <g id=\"patch_3\">\n    <path clip-path=\"url(#p70cbf25dac)\" d=\"M 55.821307 224.64 \nL 74.844034 224.64 \nL 74.844034 188.095462 \nL 55.821307 188.095462 \nz\n\" style=\"fill:#ff7f0e;fill-opacity:0.5;\"/>\n   </g>\n   <g id=\"patch_4\">\n    <path clip-path=\"url(#p70cbf25dac)\" d=\"M 74.844034 224.64 \nL 93.866761 224.64 \nL 93.866761 212.458487 \nL 74.844034 212.458487 \nz\n\" style=\"fill:#ff7f0e;fill-opacity:0.5;\"/>\n   </g>\n   <g id=\"patch_5\">\n    <path clip-path=\"url(#p70cbf25dac)\" d=\"M 93.866761 224.64 \nL 112.889489 224.64 \nL 112.889489 188.095462 \nL 93.866761 188.095462 \nz\n\" style=\"fill:#ff7f0e;fill-opacity:0.5;\"/>\n   </g>\n   <g id=\"patch_6\">\n    <path clip-path=\"url(#p70cbf25dac)\" d=\"M 112.889489 224.64 \nL 131.912216 224.64 \nL 131.912216 200.276975 \nL 112.889489 200.276975 \nz\n\" style=\"fill:#ff7f0e;fill-opacity:0.5;\"/>\n   </g>\n   <g id=\"patch_7\">\n    <path clip-path=\"url(#p70cbf25dac)\" d=\"M 131.912216 224.64 \nL 150.934943 224.64 \nL 150.934943 115.006387 \nL 131.912216 115.006387 \nz\n\" style=\"fill:#ff7f0e;fill-opacity:0.5;\"/>\n   </g>\n   <g id=\"patch_8\">\n    <path clip-path=\"url(#p70cbf25dac)\" d=\"M 150.934943 224.64 \nL 169.95767 224.64 \nL 169.95767 17.554286 \nL 150.934943 17.554286 \nz\n\" style=\"fill:#ff7f0e;fill-opacity:0.5;\"/>\n   </g>\n   <g id=\"patch_9\">\n    <path clip-path=\"url(#p70cbf25dac)\" d=\"M 169.95767 224.64 \nL 188.980398 224.64 \nL 188.980398 188.095462 \nL 169.95767 188.095462 \nz\n\" style=\"fill:#ff7f0e;fill-opacity:0.5;\"/>\n   </g>\n   <g id=\"patch_10\">\n    <path clip-path=\"url(#p70cbf25dac)\" d=\"M 188.980398 224.64 \nL 208.003125 224.64 \nL 208.003125 224.64 \nL 188.980398 224.64 \nz\n\" style=\"fill:#ff7f0e;fill-opacity:0.5;\"/>\n   </g>\n   <g id=\"patch_11\">\n    <path clip-path=\"url(#p70cbf25dac)\" d=\"M 208.003125 224.64 \nL 227.025852 224.64 \nL 227.025852 224.64 \nL 208.003125 224.64 \nz\n\" style=\"fill:#ff7f0e;fill-opacity:0.5;\"/>\n   </g>\n   <g id=\"patch_12\">\n    <path clip-path=\"url(#p70cbf25dac)\" d=\"M 227.025852 224.64 \nL 246.04858 224.64 \nL 246.04858 224.64 \nL 227.025852 224.64 \nz\n\" style=\"fill:#ff7f0e;fill-opacity:0.5;\"/>\n   </g>\n   <g id=\"patch_13\">\n    <path clip-path=\"url(#p70cbf25dac)\" d=\"M 246.04858 224.64 \nL 265.071307 224.64 \nL 265.071307 224.64 \nL 246.04858 224.64 \nz\n\" style=\"fill:#ff7f0e;fill-opacity:0.5;\"/>\n   </g>\n   <g id=\"patch_14\">\n    <path clip-path=\"url(#p70cbf25dac)\" d=\"M 265.071307 224.64 \nL 284.094034 224.64 \nL 284.094034 224.64 \nL 265.071307 224.64 \nz\n\" style=\"fill:#ff7f0e;fill-opacity:0.5;\"/>\n   </g>\n   <g id=\"patch_15\">\n    <path clip-path=\"url(#p70cbf25dac)\" d=\"M 284.094034 224.64 \nL 303.116761 224.64 \nL 303.116761 224.64 \nL 284.094034 224.64 \nz\n\" style=\"fill:#ff7f0e;fill-opacity:0.5;\"/>\n   </g>\n   <g id=\"patch_16\">\n    <path clip-path=\"url(#p70cbf25dac)\" d=\"M 303.116761 224.64 \nL 322.139489 224.64 \nL 322.139489 224.64 \nL 303.116761 224.64 \nz\n\" style=\"fill:#ff7f0e;fill-opacity:0.5;\"/>\n   </g>\n   <g id=\"patch_17\">\n    <path clip-path=\"url(#p70cbf25dac)\" d=\"M 322.139489 224.64 \nL 341.162216 224.64 \nL 341.162216 224.64 \nL 322.139489 224.64 \nz\n\" style=\"fill:#ff7f0e;fill-opacity:0.5;\"/>\n   </g>\n   <g id=\"patch_18\">\n    <path clip-path=\"url(#p70cbf25dac)\" d=\"M 341.162216 224.64 \nL 360.184943 224.64 \nL 360.184943 224.64 \nL 341.162216 224.64 \nz\n\" style=\"fill:#ff7f0e;fill-opacity:0.5;\"/>\n   </g>\n   <g id=\"patch_19\">\n    <path clip-path=\"url(#p70cbf25dac)\" d=\"M 55.821307 224.64 \nL 74.844034 224.64 \nL 74.844034 224.64 \nL 55.821307 224.64 \nz\n\" style=\"fill:#1f77b4;fill-opacity:0.5;\"/>\n   </g>\n   <g id=\"patch_20\">\n    <path clip-path=\"url(#p70cbf25dac)\" d=\"M 74.844034 224.64 \nL 93.866761 224.64 \nL 93.866761 224.64 \nL 74.844034 224.64 \nz\n\" style=\"fill:#1f77b4;fill-opacity:0.5;\"/>\n   </g>\n   <g id=\"patch_21\">\n    <path clip-path=\"url(#p70cbf25dac)\" d=\"M 93.866761 224.64 \nL 112.889489 224.64 \nL 112.889489 224.64 \nL 93.866761 224.64 \nz\n\" style=\"fill:#1f77b4;fill-opacity:0.5;\"/>\n   </g>\n   <g id=\"patch_22\">\n    <path clip-path=\"url(#p70cbf25dac)\" d=\"M 112.889489 224.64 \nL 131.912216 224.64 \nL 131.912216 224.64 \nL 112.889489 224.64 \nz\n\" style=\"fill:#1f77b4;fill-opacity:0.5;\"/>\n   </g>\n   <g id=\"patch_23\">\n    <path clip-path=\"url(#p70cbf25dac)\" d=\"M 131.912216 224.64 \nL 150.934943 224.64 \nL 150.934943 224.64 \nL 131.912216 224.64 \nz\n\" style=\"fill:#1f77b4;fill-opacity:0.5;\"/>\n   </g>\n   <g id=\"patch_24\">\n    <path clip-path=\"url(#p70cbf25dac)\" d=\"M 150.934943 224.64 \nL 169.95767 224.64 \nL 169.95767 224.64 \nL 150.934943 224.64 \nz\n\" style=\"fill:#1f77b4;fill-opacity:0.5;\"/>\n   </g>\n   <g id=\"patch_25\">\n    <path clip-path=\"url(#p70cbf25dac)\" d=\"M 169.95767 224.64 \nL 188.980398 224.64 \nL 188.980398 78.461849 \nL 169.95767 78.461849 \nz\n\" style=\"fill:#1f77b4;fill-opacity:0.5;\"/>\n   </g>\n   <g id=\"patch_26\">\n    <path clip-path=\"url(#p70cbf25dac)\" d=\"M 188.980398 224.64 \nL 208.003125 224.64 \nL 208.003125 17.554286 \nL 188.980398 17.554286 \nz\n\" style=\"fill:#1f77b4;fill-opacity:0.5;\"/>\n   </g>\n   <g id=\"patch_27\">\n    <path clip-path=\"url(#p70cbf25dac)\" d=\"M 208.003125 224.64 \nL 227.025852 224.64 \nL 227.025852 115.006387 \nL 208.003125 115.006387 \nz\n\" style=\"fill:#1f77b4;fill-opacity:0.5;\"/>\n   </g>\n   <g id=\"patch_28\">\n    <path clip-path=\"url(#p70cbf25dac)\" d=\"M 227.025852 224.64 \nL 246.04858 224.64 \nL 246.04858 139.369412 \nL 227.025852 139.369412 \nz\n\" style=\"fill:#1f77b4;fill-opacity:0.5;\"/>\n   </g>\n   <g id=\"patch_29\">\n    <path clip-path=\"url(#p70cbf25dac)\" d=\"M 246.04858 224.64 \nL 265.071307 224.64 \nL 265.071307 163.732437 \nL 246.04858 163.732437 \nz\n\" style=\"fill:#1f77b4;fill-opacity:0.5;\"/>\n   </g>\n   <g id=\"patch_30\">\n    <path clip-path=\"url(#p70cbf25dac)\" d=\"M 265.071307 224.64 \nL 284.094034 224.64 \nL 284.094034 200.276975 \nL 265.071307 200.276975 \nz\n\" style=\"fill:#1f77b4;fill-opacity:0.5;\"/>\n   </g>\n   <g id=\"patch_31\">\n    <path clip-path=\"url(#p70cbf25dac)\" d=\"M 284.094034 224.64 \nL 303.116761 224.64 \nL 303.116761 212.458487 \nL 284.094034 212.458487 \nz\n\" style=\"fill:#1f77b4;fill-opacity:0.5;\"/>\n   </g>\n   <g id=\"patch_32\">\n    <path clip-path=\"url(#p70cbf25dac)\" d=\"M 303.116761 224.64 \nL 322.139489 224.64 \nL 322.139489 212.458487 \nL 303.116761 212.458487 \nz\n\" style=\"fill:#1f77b4;fill-opacity:0.5;\"/>\n   </g>\n   <g id=\"patch_33\">\n    <path clip-path=\"url(#p70cbf25dac)\" d=\"M 322.139489 224.64 \nL 341.162216 224.64 \nL 341.162216 212.458487 \nL 322.139489 212.458487 \nz\n\" style=\"fill:#1f77b4;fill-opacity:0.5;\"/>\n   </g>\n   <g id=\"patch_34\">\n    <path clip-path=\"url(#p70cbf25dac)\" d=\"M 341.162216 224.64 \nL 360.184943 224.64 \nL 360.184943 212.458487 \nL 341.162216 212.458487 \nz\n\" style=\"fill:#1f77b4;fill-opacity:0.5;\"/>\n   </g>\n   <g id=\"matplotlib.axis_1\">\n    <g id=\"xtick_1\">\n     <g id=\"line2d_1\">\n      <defs>\n       <path d=\"M 0 0 \nL 0 3.5 \n\" id=\"m866151c20c\" style=\"stroke:#000000;stroke-width:0.8;\"/>\n      </defs>\n      <g>\n       <use style=\"stroke:#000000;stroke-width:0.8;\" x=\"84.973091\" xlink:href=\"#m866151c20c\" y=\"224.64\"/>\n      </g>\n     </g>\n     <g id=\"text_1\">\n      <!-- −1.0 -->\n      <g transform=\"translate(72.831685 239.238437)scale(0.1 -0.1)\">\n       <defs>\n        <path d=\"M 678 2272 \nL 4684 2272 \nL 4684 1741 \nL 678 1741 \nL 678 2272 \nz\n\" id=\"DejaVuSans-2212\" transform=\"scale(0.015625)\"/>\n        <path d=\"M 794 531 \nL 1825 531 \nL 1825 4091 \nL 703 3866 \nL 703 4441 \nL 1819 4666 \nL 2450 4666 \nL 2450 531 \nL 3481 531 \nL 3481 0 \nL 794 0 \nL 794 531 \nz\n\" id=\"DejaVuSans-31\" transform=\"scale(0.015625)\"/>\n        <path d=\"M 684 794 \nL 1344 794 \nL 1344 0 \nL 684 0 \nL 684 794 \nz\n\" id=\"DejaVuSans-2e\" transform=\"scale(0.015625)\"/>\n        <path d=\"M 2034 4250 \nQ 1547 4250 1301 3770 \nQ 1056 3291 1056 2328 \nQ 1056 1369 1301 889 \nQ 1547 409 2034 409 \nQ 2525 409 2770 889 \nQ 3016 1369 3016 2328 \nQ 3016 3291 2770 3770 \nQ 2525 4250 2034 4250 \nz\nM 2034 4750 \nQ 2819 4750 3233 4129 \nQ 3647 3509 3647 2328 \nQ 3647 1150 3233 529 \nQ 2819 -91 2034 -91 \nQ 1250 -91 836 529 \nQ 422 1150 422 2328 \nQ 422 3509 836 4129 \nQ 1250 4750 2034 4750 \nz\n\" id=\"DejaVuSans-30\" transform=\"scale(0.015625)\"/>\n       </defs>\n       <use xlink:href=\"#DejaVuSans-2212\"/>\n       <use x=\"83.789062\" xlink:href=\"#DejaVuSans-31\"/>\n       <use x=\"147.412109\" xlink:href=\"#DejaVuSans-2e\"/>\n       <use x=\"179.199219\" xlink:href=\"#DejaVuSans-30\"/>\n      </g>\n     </g>\n    </g>\n    <g id=\"xtick_2\">\n     <g id=\"line2d_2\">\n      <g>\n       <use style=\"stroke:#000000;stroke-width:0.8;\" x=\"138.159792\" xlink:href=\"#m866151c20c\" y=\"224.64\"/>\n      </g>\n     </g>\n     <g id=\"text_2\">\n      <!-- −0.5 -->\n      <g transform=\"translate(126.018386 239.238437)scale(0.1 -0.1)\">\n       <defs>\n        <path d=\"M 691 4666 \nL 3169 4666 \nL 3169 4134 \nL 1269 4134 \nL 1269 2991 \nQ 1406 3038 1543 3061 \nQ 1681 3084 1819 3084 \nQ 2600 3084 3056 2656 \nQ 3513 2228 3513 1497 \nQ 3513 744 3044 326 \nQ 2575 -91 1722 -91 \nQ 1428 -91 1123 -41 \nQ 819 9 494 109 \nL 494 744 \nQ 775 591 1075 516 \nQ 1375 441 1709 441 \nQ 2250 441 2565 725 \nQ 2881 1009 2881 1497 \nQ 2881 1984 2565 2268 \nQ 2250 2553 1709 2553 \nQ 1456 2553 1204 2497 \nQ 953 2441 691 2322 \nL 691 4666 \nz\n\" id=\"DejaVuSans-35\" transform=\"scale(0.015625)\"/>\n       </defs>\n       <use xlink:href=\"#DejaVuSans-2212\"/>\n       <use x=\"83.789062\" xlink:href=\"#DejaVuSans-30\"/>\n       <use x=\"147.412109\" xlink:href=\"#DejaVuSans-2e\"/>\n       <use x=\"179.199219\" xlink:href=\"#DejaVuSans-35\"/>\n      </g>\n     </g>\n    </g>\n    <g id=\"xtick_3\">\n     <g id=\"line2d_3\">\n      <g>\n       <use style=\"stroke:#000000;stroke-width:0.8;\" x=\"191.346493\" xlink:href=\"#m866151c20c\" y=\"224.64\"/>\n      </g>\n     </g>\n     <g id=\"text_3\">\n      <!-- 0.0 -->\n      <g transform=\"translate(183.394931 239.238437)scale(0.1 -0.1)\">\n       <use xlink:href=\"#DejaVuSans-30\"/>\n       <use x=\"63.623047\" xlink:href=\"#DejaVuSans-2e\"/>\n       <use x=\"95.410156\" xlink:href=\"#DejaVuSans-30\"/>\n      </g>\n     </g>\n    </g>\n    <g id=\"xtick_4\">\n     <g id=\"line2d_4\">\n      <g>\n       <use style=\"stroke:#000000;stroke-width:0.8;\" x=\"244.533194\" xlink:href=\"#m866151c20c\" y=\"224.64\"/>\n      </g>\n     </g>\n     <g id=\"text_4\">\n      <!-- 0.5 -->\n      <g transform=\"translate(236.581632 239.238437)scale(0.1 -0.1)\">\n       <use xlink:href=\"#DejaVuSans-30\"/>\n       <use x=\"63.623047\" xlink:href=\"#DejaVuSans-2e\"/>\n       <use x=\"95.410156\" xlink:href=\"#DejaVuSans-35\"/>\n      </g>\n     </g>\n    </g>\n    <g id=\"xtick_5\">\n     <g id=\"line2d_5\">\n      <g>\n       <use style=\"stroke:#000000;stroke-width:0.8;\" x=\"297.719895\" xlink:href=\"#m866151c20c\" y=\"224.64\"/>\n      </g>\n     </g>\n     <g id=\"text_5\">\n      <!-- 1.0 -->\n      <g transform=\"translate(289.768333 239.238437)scale(0.1 -0.1)\">\n       <use xlink:href=\"#DejaVuSans-31\"/>\n       <use x=\"63.623047\" xlink:href=\"#DejaVuSans-2e\"/>\n       <use x=\"95.410156\" xlink:href=\"#DejaVuSans-30\"/>\n      </g>\n     </g>\n    </g>\n    <g id=\"xtick_6\">\n     <g id=\"line2d_6\">\n      <g>\n       <use style=\"stroke:#000000;stroke-width:0.8;\" x=\"350.906596\" xlink:href=\"#m866151c20c\" y=\"224.64\"/>\n      </g>\n     </g>\n     <g id=\"text_6\">\n      <!-- 1.5 -->\n      <g transform=\"translate(342.955034 239.238437)scale(0.1 -0.1)\">\n       <use xlink:href=\"#DejaVuSans-31\"/>\n       <use x=\"63.623047\" xlink:href=\"#DejaVuSans-2e\"/>\n       <use x=\"95.410156\" xlink:href=\"#DejaVuSans-35\"/>\n      </g>\n     </g>\n    </g>\n    <g id=\"text_7\">\n     <!-- log2FC -->\n     <g transform=\"translate(190.832031 252.916562)scale(0.1 -0.1)\">\n      <defs>\n       <path d=\"M 603 4863 \nL 1178 4863 \nL 1178 0 \nL 603 0 \nL 603 4863 \nz\n\" id=\"DejaVuSans-6c\" transform=\"scale(0.015625)\"/>\n       <path d=\"M 1959 3097 \nQ 1497 3097 1228 2736 \nQ 959 2375 959 1747 \nQ 959 1119 1226 758 \nQ 1494 397 1959 397 \nQ 2419 397 2687 759 \nQ 2956 1122 2956 1747 \nQ 2956 2369 2687 2733 \nQ 2419 3097 1959 3097 \nz\nM 1959 3584 \nQ 2709 3584 3137 3096 \nQ 3566 2609 3566 1747 \nQ 3566 888 3137 398 \nQ 2709 -91 1959 -91 \nQ 1206 -91 779 398 \nQ 353 888 353 1747 \nQ 353 2609 779 3096 \nQ 1206 3584 1959 3584 \nz\n\" id=\"DejaVuSans-6f\" transform=\"scale(0.015625)\"/>\n       <path d=\"M 2906 1791 \nQ 2906 2416 2648 2759 \nQ 2391 3103 1925 3103 \nQ 1463 3103 1205 2759 \nQ 947 2416 947 1791 \nQ 947 1169 1205 825 \nQ 1463 481 1925 481 \nQ 2391 481 2648 825 \nQ 2906 1169 2906 1791 \nz\nM 3481 434 \nQ 3481 -459 3084 -895 \nQ 2688 -1331 1869 -1331 \nQ 1566 -1331 1297 -1286 \nQ 1028 -1241 775 -1147 \nL 775 -588 \nQ 1028 -725 1275 -790 \nQ 1522 -856 1778 -856 \nQ 2344 -856 2625 -561 \nQ 2906 -266 2906 331 \nL 2906 616 \nQ 2728 306 2450 153 \nQ 2172 0 1784 0 \nQ 1141 0 747 490 \nQ 353 981 353 1791 \nQ 353 2603 747 3093 \nQ 1141 3584 1784 3584 \nQ 2172 3584 2450 3431 \nQ 2728 3278 2906 2969 \nL 2906 3500 \nL 3481 3500 \nL 3481 434 \nz\n\" id=\"DejaVuSans-67\" transform=\"scale(0.015625)\"/>\n       <path d=\"M 1228 531 \nL 3431 531 \nL 3431 0 \nL 469 0 \nL 469 531 \nQ 828 903 1448 1529 \nQ 2069 2156 2228 2338 \nQ 2531 2678 2651 2914 \nQ 2772 3150 2772 3378 \nQ 2772 3750 2511 3984 \nQ 2250 4219 1831 4219 \nQ 1534 4219 1204 4116 \nQ 875 4013 500 3803 \nL 500 4441 \nQ 881 4594 1212 4672 \nQ 1544 4750 1819 4750 \nQ 2544 4750 2975 4387 \nQ 3406 4025 3406 3419 \nQ 3406 3131 3298 2873 \nQ 3191 2616 2906 2266 \nQ 2828 2175 2409 1742 \nQ 1991 1309 1228 531 \nz\n\" id=\"DejaVuSans-32\" transform=\"scale(0.015625)\"/>\n       <path d=\"M 628 4666 \nL 3309 4666 \nL 3309 4134 \nL 1259 4134 \nL 1259 2759 \nL 3109 2759 \nL 3109 2228 \nL 1259 2228 \nL 1259 0 \nL 628 0 \nL 628 4666 \nz\n\" id=\"DejaVuSans-46\" transform=\"scale(0.015625)\"/>\n       <path d=\"M 4122 4306 \nL 4122 3641 \nQ 3803 3938 3442 4084 \nQ 3081 4231 2675 4231 \nQ 1875 4231 1450 3742 \nQ 1025 3253 1025 2328 \nQ 1025 1406 1450 917 \nQ 1875 428 2675 428 \nQ 3081 428 3442 575 \nQ 3803 722 4122 1019 \nL 4122 359 \nQ 3791 134 3420 21 \nQ 3050 -91 2638 -91 \nQ 1578 -91 968 557 \nQ 359 1206 359 2328 \nQ 359 3453 968 4101 \nQ 1578 4750 2638 4750 \nQ 3056 4750 3426 4639 \nQ 3797 4528 4122 4306 \nz\n\" id=\"DejaVuSans-43\" transform=\"scale(0.015625)\"/>\n      </defs>\n      <use xlink:href=\"#DejaVuSans-6c\"/>\n      <use x=\"27.783203\" xlink:href=\"#DejaVuSans-6f\"/>\n      <use x=\"88.964844\" xlink:href=\"#DejaVuSans-67\"/>\n      <use x=\"152.441406\" xlink:href=\"#DejaVuSans-32\"/>\n      <use x=\"216.064453\" xlink:href=\"#DejaVuSans-46\"/>\n      <use x=\"273.583984\" xlink:href=\"#DejaVuSans-43\"/>\n     </g>\n    </g>\n   </g>\n   <g id=\"matplotlib.axis_2\">\n    <g id=\"ytick_1\">\n     <g id=\"line2d_7\">\n      <defs>\n       <path d=\"M 0 0 \nL -3.5 0 \n\" id=\"m5271d6f3f0\" style=\"stroke:#000000;stroke-width:0.8;\"/>\n      </defs>\n      <g>\n       <use style=\"stroke:#000000;stroke-width:0.8;\" x=\"40.603125\" xlink:href=\"#m5271d6f3f0\" y=\"224.64\"/>\n      </g>\n     </g>\n     <g id=\"text_8\">\n      <!-- 0 -->\n      <g transform=\"translate(27.240625 228.439219)scale(0.1 -0.1)\">\n       <use xlink:href=\"#DejaVuSans-30\"/>\n      </g>\n     </g>\n    </g>\n    <g id=\"ytick_2\">\n     <g id=\"line2d_8\">\n      <g>\n       <use style=\"stroke:#000000;stroke-width:0.8;\" x=\"40.603125\" xlink:href=\"#m5271d6f3f0\" y=\"194.186218\"/>\n      </g>\n     </g>\n     <g id=\"text_9\">\n      <!-- 5 -->\n      <g transform=\"translate(27.240625 197.985437)scale(0.1 -0.1)\">\n       <use xlink:href=\"#DejaVuSans-35\"/>\n      </g>\n     </g>\n    </g>\n    <g id=\"ytick_3\">\n     <g id=\"line2d_9\">\n      <g>\n       <use style=\"stroke:#000000;stroke-width:0.8;\" x=\"40.603125\" xlink:href=\"#m5271d6f3f0\" y=\"163.732437\"/>\n      </g>\n     </g>\n     <g id=\"text_10\">\n      <!-- 10 -->\n      <g transform=\"translate(20.878125 167.531656)scale(0.1 -0.1)\">\n       <use xlink:href=\"#DejaVuSans-31\"/>\n       <use x=\"63.623047\" xlink:href=\"#DejaVuSans-30\"/>\n      </g>\n     </g>\n    </g>\n    <g id=\"ytick_4\">\n     <g id=\"line2d_10\">\n      <g>\n       <use style=\"stroke:#000000;stroke-width:0.8;\" x=\"40.603125\" xlink:href=\"#m5271d6f3f0\" y=\"133.278655\"/>\n      </g>\n     </g>\n     <g id=\"text_11\">\n      <!-- 15 -->\n      <g transform=\"translate(20.878125 137.077874)scale(0.1 -0.1)\">\n       <use xlink:href=\"#DejaVuSans-31\"/>\n       <use x=\"63.623047\" xlink:href=\"#DejaVuSans-35\"/>\n      </g>\n     </g>\n    </g>\n    <g id=\"ytick_5\">\n     <g id=\"line2d_11\">\n      <g>\n       <use style=\"stroke:#000000;stroke-width:0.8;\" x=\"40.603125\" xlink:href=\"#m5271d6f3f0\" y=\"102.824874\"/>\n      </g>\n     </g>\n     <g id=\"text_12\">\n      <!-- 20 -->\n      <g transform=\"translate(20.878125 106.624093)scale(0.1 -0.1)\">\n       <use xlink:href=\"#DejaVuSans-32\"/>\n       <use x=\"63.623047\" xlink:href=\"#DejaVuSans-30\"/>\n      </g>\n     </g>\n    </g>\n    <g id=\"ytick_6\">\n     <g id=\"line2d_12\">\n      <g>\n       <use style=\"stroke:#000000;stroke-width:0.8;\" x=\"40.603125\" xlink:href=\"#m5271d6f3f0\" y=\"72.371092\"/>\n      </g>\n     </g>\n     <g id=\"text_13\">\n      <!-- 25 -->\n      <g transform=\"translate(20.878125 76.170311)scale(0.1 -0.1)\">\n       <use xlink:href=\"#DejaVuSans-32\"/>\n       <use x=\"63.623047\" xlink:href=\"#DejaVuSans-35\"/>\n      </g>\n     </g>\n    </g>\n    <g id=\"ytick_7\">\n     <g id=\"line2d_13\">\n      <g>\n       <use style=\"stroke:#000000;stroke-width:0.8;\" x=\"40.603125\" xlink:href=\"#m5271d6f3f0\" y=\"41.917311\"/>\n      </g>\n     </g>\n     <g id=\"text_14\">\n      <!-- 30 -->\n      <g transform=\"translate(20.878125 45.71653)scale(0.1 -0.1)\">\n       <defs>\n        <path d=\"M 2597 2516 \nQ 3050 2419 3304 2112 \nQ 3559 1806 3559 1356 \nQ 3559 666 3084 287 \nQ 2609 -91 1734 -91 \nQ 1441 -91 1130 -33 \nQ 819 25 488 141 \nL 488 750 \nQ 750 597 1062 519 \nQ 1375 441 1716 441 \nQ 2309 441 2620 675 \nQ 2931 909 2931 1356 \nQ 2931 1769 2642 2001 \nQ 2353 2234 1838 2234 \nL 1294 2234 \nL 1294 2753 \nL 1863 2753 \nQ 2328 2753 2575 2939 \nQ 2822 3125 2822 3475 \nQ 2822 3834 2567 4026 \nQ 2313 4219 1838 4219 \nQ 1578 4219 1281 4162 \nQ 984 4106 628 3988 \nL 628 4550 \nQ 988 4650 1302 4700 \nQ 1616 4750 1894 4750 \nQ 2613 4750 3031 4423 \nQ 3450 4097 3450 3541 \nQ 3450 3153 3228 2886 \nQ 3006 2619 2597 2516 \nz\n\" id=\"DejaVuSans-33\" transform=\"scale(0.015625)\"/>\n       </defs>\n       <use xlink:href=\"#DejaVuSans-33\"/>\n       <use x=\"63.623047\" xlink:href=\"#DejaVuSans-30\"/>\n      </g>\n     </g>\n    </g>\n    <g id=\"ytick_8\">\n     <g id=\"line2d_14\">\n      <g>\n       <use style=\"stroke:#000000;stroke-width:0.8;\" x=\"40.603125\" xlink:href=\"#m5271d6f3f0\" y=\"11.463529\"/>\n      </g>\n     </g>\n     <g id=\"text_15\">\n      <!-- 35 -->\n      <g transform=\"translate(20.878125 15.262748)scale(0.1 -0.1)\">\n       <use xlink:href=\"#DejaVuSans-33\"/>\n       <use x=\"63.623047\" xlink:href=\"#DejaVuSans-35\"/>\n      </g>\n     </g>\n    </g>\n    <g id=\"text_16\">\n     <!-- Count -->\n     <g transform=\"translate(14.798438 130.768437)rotate(-90)scale(0.1 -0.1)\">\n      <defs>\n       <path d=\"M 544 1381 \nL 544 3500 \nL 1119 3500 \nL 1119 1403 \nQ 1119 906 1312 657 \nQ 1506 409 1894 409 \nQ 2359 409 2629 706 \nQ 2900 1003 2900 1516 \nL 2900 3500 \nL 3475 3500 \nL 3475 0 \nL 2900 0 \nL 2900 538 \nQ 2691 219 2414 64 \nQ 2138 -91 1772 -91 \nQ 1169 -91 856 284 \nQ 544 659 544 1381 \nz\nM 1991 3584 \nL 1991 3584 \nz\n\" id=\"DejaVuSans-75\" transform=\"scale(0.015625)\"/>\n       <path d=\"M 3513 2113 \nL 3513 0 \nL 2938 0 \nL 2938 2094 \nQ 2938 2591 2744 2837 \nQ 2550 3084 2163 3084 \nQ 1697 3084 1428 2787 \nQ 1159 2491 1159 1978 \nL 1159 0 \nL 581 0 \nL 581 3500 \nL 1159 3500 \nL 1159 2956 \nQ 1366 3272 1645 3428 \nQ 1925 3584 2291 3584 \nQ 2894 3584 3203 3211 \nQ 3513 2838 3513 2113 \nz\n\" id=\"DejaVuSans-6e\" transform=\"scale(0.015625)\"/>\n       <path d=\"M 1172 4494 \nL 1172 3500 \nL 2356 3500 \nL 2356 3053 \nL 1172 3053 \nL 1172 1153 \nQ 1172 725 1289 603 \nQ 1406 481 1766 481 \nL 2356 481 \nL 2356 0 \nL 1766 0 \nQ 1100 0 847 248 \nQ 594 497 594 1153 \nL 594 3053 \nL 172 3053 \nL 172 3500 \nL 594 3500 \nL 594 4494 \nL 1172 4494 \nz\n\" id=\"DejaVuSans-74\" transform=\"scale(0.015625)\"/>\n      </defs>\n      <use xlink:href=\"#DejaVuSans-43\"/>\n      <use x=\"69.824219\" xlink:href=\"#DejaVuSans-6f\"/>\n      <use x=\"131.005859\" xlink:href=\"#DejaVuSans-75\"/>\n      <use x=\"194.384766\" xlink:href=\"#DejaVuSans-6e\"/>\n      <use x=\"257.763672\" xlink:href=\"#DejaVuSans-74\"/>\n     </g>\n    </g>\n   </g>\n   <g id=\"patch_35\">\n    <path d=\"M 40.603125 224.64 \nL 40.603125 7.2 \n\" style=\"fill:none;stroke:#000000;stroke-linecap:square;stroke-linejoin:miter;stroke-width:0.8;\"/>\n   </g>\n   <g id=\"patch_36\">\n    <path d=\"M 375.403125 224.64 \nL 375.403125 7.2 \n\" style=\"fill:none;stroke:#000000;stroke-linecap:square;stroke-linejoin:miter;stroke-width:0.8;\"/>\n   </g>\n   <g id=\"patch_37\">\n    <path d=\"M 40.603125 224.64 \nL 375.403125 224.64 \n\" style=\"fill:none;stroke:#000000;stroke-linecap:square;stroke-linejoin:miter;stroke-width:0.8;\"/>\n   </g>\n   <g id=\"patch_38\">\n    <path d=\"M 40.603125 7.2 \nL 375.403125 7.2 \n\" style=\"fill:none;stroke:#000000;stroke-linecap:square;stroke-linejoin:miter;stroke-width:0.8;\"/>\n   </g>\n   <g id=\"legend_1\">\n    <g id=\"patch_39\">\n     <path d=\"M 240.835937 59.5125 \nL 368.403125 59.5125 \nQ 370.403125 59.5125 370.403125 57.5125 \nL 370.403125 14.2 \nQ 370.403125 12.2 368.403125 12.2 \nL 240.835937 12.2 \nQ 238.835937 12.2 238.835937 14.2 \nL 238.835937 57.5125 \nQ 238.835937 59.5125 240.835937 59.5125 \nz\n\" style=\"fill:#ffffff;opacity:0.8;stroke:#cccccc;stroke-linejoin:miter;\"/>\n    </g>\n    <g id=\"text_17\">\n     <!-- MPRA_validated_silencer -->\n     <g transform=\"translate(242.835937 23.798437)scale(0.1 -0.1)\">\n      <defs>\n       <path d=\"M 628 4666 \nL 1569 4666 \nL 2759 1491 \nL 3956 4666 \nL 4897 4666 \nL 4897 0 \nL 4281 0 \nL 4281 4097 \nL 3078 897 \nL 2444 897 \nL 1241 4097 \nL 1241 0 \nL 628 0 \nL 628 4666 \nz\n\" id=\"DejaVuSans-4d\" transform=\"scale(0.015625)\"/>\n       <path d=\"M 1259 4147 \nL 1259 2394 \nL 2053 2394 \nQ 2494 2394 2734 2622 \nQ 2975 2850 2975 3272 \nQ 2975 3691 2734 3919 \nQ 2494 4147 2053 4147 \nL 1259 4147 \nz\nM 628 4666 \nL 2053 4666 \nQ 2838 4666 3239 4311 \nQ 3641 3956 3641 3272 \nQ 3641 2581 3239 2228 \nQ 2838 1875 2053 1875 \nL 1259 1875 \nL 1259 0 \nL 628 0 \nL 628 4666 \nz\n\" id=\"DejaVuSans-50\" transform=\"scale(0.015625)\"/>\n       <path d=\"M 2841 2188 \nQ 3044 2119 3236 1894 \nQ 3428 1669 3622 1275 \nL 4263 0 \nL 3584 0 \nL 2988 1197 \nQ 2756 1666 2539 1819 \nQ 2322 1972 1947 1972 \nL 1259 1972 \nL 1259 0 \nL 628 0 \nL 628 4666 \nL 2053 4666 \nQ 2853 4666 3247 4331 \nQ 3641 3997 3641 3322 \nQ 3641 2881 3436 2590 \nQ 3231 2300 2841 2188 \nz\nM 1259 4147 \nL 1259 2491 \nL 2053 2491 \nQ 2509 2491 2742 2702 \nQ 2975 2913 2975 3322 \nQ 2975 3731 2742 3939 \nQ 2509 4147 2053 4147 \nL 1259 4147 \nz\n\" id=\"DejaVuSans-52\" transform=\"scale(0.015625)\"/>\n       <path d=\"M 2188 4044 \nL 1331 1722 \nL 3047 1722 \nL 2188 4044 \nz\nM 1831 4666 \nL 2547 4666 \nL 4325 0 \nL 3669 0 \nL 3244 1197 \nL 1141 1197 \nL 716 0 \nL 50 0 \nL 1831 4666 \nz\n\" id=\"DejaVuSans-41\" transform=\"scale(0.015625)\"/>\n       <path d=\"M 3263 -1063 \nL 3263 -1509 \nL -63 -1509 \nL -63 -1063 \nL 3263 -1063 \nz\n\" id=\"DejaVuSans-5f\" transform=\"scale(0.015625)\"/>\n       <path d=\"M 191 3500 \nL 800 3500 \nL 1894 563 \nL 2988 3500 \nL 3597 3500 \nL 2284 0 \nL 1503 0 \nL 191 3500 \nz\n\" id=\"DejaVuSans-76\" transform=\"scale(0.015625)\"/>\n       <path d=\"M 2194 1759 \nQ 1497 1759 1228 1600 \nQ 959 1441 959 1056 \nQ 959 750 1161 570 \nQ 1363 391 1709 391 \nQ 2188 391 2477 730 \nQ 2766 1069 2766 1631 \nL 2766 1759 \nL 2194 1759 \nz\nM 3341 1997 \nL 3341 0 \nL 2766 0 \nL 2766 531 \nQ 2569 213 2275 61 \nQ 1981 -91 1556 -91 \nQ 1019 -91 701 211 \nQ 384 513 384 1019 \nQ 384 1609 779 1909 \nQ 1175 2209 1959 2209 \nL 2766 2209 \nL 2766 2266 \nQ 2766 2663 2505 2880 \nQ 2244 3097 1772 3097 \nQ 1472 3097 1187 3025 \nQ 903 2953 641 2809 \nL 641 3341 \nQ 956 3463 1253 3523 \nQ 1550 3584 1831 3584 \nQ 2591 3584 2966 3190 \nQ 3341 2797 3341 1997 \nz\n\" id=\"DejaVuSans-61\" transform=\"scale(0.015625)\"/>\n       <path d=\"M 603 3500 \nL 1178 3500 \nL 1178 0 \nL 603 0 \nL 603 3500 \nz\nM 603 4863 \nL 1178 4863 \nL 1178 4134 \nL 603 4134 \nL 603 4863 \nz\n\" id=\"DejaVuSans-69\" transform=\"scale(0.015625)\"/>\n       <path d=\"M 2906 2969 \nL 2906 4863 \nL 3481 4863 \nL 3481 0 \nL 2906 0 \nL 2906 525 \nQ 2725 213 2448 61 \nQ 2172 -91 1784 -91 \nQ 1150 -91 751 415 \nQ 353 922 353 1747 \nQ 353 2572 751 3078 \nQ 1150 3584 1784 3584 \nQ 2172 3584 2448 3432 \nQ 2725 3281 2906 2969 \nz\nM 947 1747 \nQ 947 1113 1208 752 \nQ 1469 391 1925 391 \nQ 2381 391 2643 752 \nQ 2906 1113 2906 1747 \nQ 2906 2381 2643 2742 \nQ 2381 3103 1925 3103 \nQ 1469 3103 1208 2742 \nQ 947 2381 947 1747 \nz\n\" id=\"DejaVuSans-64\" transform=\"scale(0.015625)\"/>\n       <path d=\"M 3597 1894 \nL 3597 1613 \nL 953 1613 \nQ 991 1019 1311 708 \nQ 1631 397 2203 397 \nQ 2534 397 2845 478 \nQ 3156 559 3463 722 \nL 3463 178 \nQ 3153 47 2828 -22 \nQ 2503 -91 2169 -91 \nQ 1331 -91 842 396 \nQ 353 884 353 1716 \nQ 353 2575 817 3079 \nQ 1281 3584 2069 3584 \nQ 2775 3584 3186 3129 \nQ 3597 2675 3597 1894 \nz\nM 3022 2063 \nQ 3016 2534 2758 2815 \nQ 2500 3097 2075 3097 \nQ 1594 3097 1305 2825 \nQ 1016 2553 972 2059 \nL 3022 2063 \nz\n\" id=\"DejaVuSans-65\" transform=\"scale(0.015625)\"/>\n       <path d=\"M 2834 3397 \nL 2834 2853 \nQ 2591 2978 2328 3040 \nQ 2066 3103 1784 3103 \nQ 1356 3103 1142 2972 \nQ 928 2841 928 2578 \nQ 928 2378 1081 2264 \nQ 1234 2150 1697 2047 \nL 1894 2003 \nQ 2506 1872 2764 1633 \nQ 3022 1394 3022 966 \nQ 3022 478 2636 193 \nQ 2250 -91 1575 -91 \nQ 1294 -91 989 -36 \nQ 684 19 347 128 \nL 347 722 \nQ 666 556 975 473 \nQ 1284 391 1588 391 \nQ 1994 391 2212 530 \nQ 2431 669 2431 922 \nQ 2431 1156 2273 1281 \nQ 2116 1406 1581 1522 \nL 1381 1569 \nQ 847 1681 609 1914 \nQ 372 2147 372 2553 \nQ 372 3047 722 3315 \nQ 1072 3584 1716 3584 \nQ 2034 3584 2315 3537 \nQ 2597 3491 2834 3397 \nz\n\" id=\"DejaVuSans-73\" transform=\"scale(0.015625)\"/>\n       <path d=\"M 3122 3366 \nL 3122 2828 \nQ 2878 2963 2633 3030 \nQ 2388 3097 2138 3097 \nQ 1578 3097 1268 2742 \nQ 959 2388 959 1747 \nQ 959 1106 1268 751 \nQ 1578 397 2138 397 \nQ 2388 397 2633 464 \nQ 2878 531 3122 666 \nL 3122 134 \nQ 2881 22 2623 -34 \nQ 2366 -91 2075 -91 \nQ 1284 -91 818 406 \nQ 353 903 353 1747 \nQ 353 2603 823 3093 \nQ 1294 3584 2113 3584 \nQ 2378 3584 2631 3529 \nQ 2884 3475 3122 3366 \nz\n\" id=\"DejaVuSans-63\" transform=\"scale(0.015625)\"/>\n       <path d=\"M 2631 2963 \nQ 2534 3019 2420 3045 \nQ 2306 3072 2169 3072 \nQ 1681 3072 1420 2755 \nQ 1159 2438 1159 1844 \nL 1159 0 \nL 581 0 \nL 581 3500 \nL 1159 3500 \nL 1159 2956 \nQ 1341 3275 1631 3429 \nQ 1922 3584 2338 3584 \nQ 2397 3584 2469 3576 \nQ 2541 3569 2628 3553 \nL 2631 2963 \nz\n\" id=\"DejaVuSans-72\" transform=\"scale(0.015625)\"/>\n      </defs>\n      <use xlink:href=\"#DejaVuSans-4d\"/>\n      <use x=\"86.279297\" xlink:href=\"#DejaVuSans-50\"/>\n      <use x=\"146.582031\" xlink:href=\"#DejaVuSans-52\"/>\n      <use x=\"212.064453\" xlink:href=\"#DejaVuSans-41\"/>\n      <use x=\"280.472656\" xlink:href=\"#DejaVuSans-5f\"/>\n      <use x=\"330.472656\" xlink:href=\"#DejaVuSans-76\"/>\n      <use x=\"389.652344\" xlink:href=\"#DejaVuSans-61\"/>\n      <use x=\"450.931641\" xlink:href=\"#DejaVuSans-6c\"/>\n      <use x=\"478.714844\" xlink:href=\"#DejaVuSans-69\"/>\n      <use x=\"506.498047\" xlink:href=\"#DejaVuSans-64\"/>\n      <use x=\"569.974609\" xlink:href=\"#DejaVuSans-61\"/>\n      <use x=\"631.253906\" xlink:href=\"#DejaVuSans-74\"/>\n      <use x=\"670.462891\" xlink:href=\"#DejaVuSans-65\"/>\n      <use x=\"731.986328\" xlink:href=\"#DejaVuSans-64\"/>\n      <use x=\"795.462891\" xlink:href=\"#DejaVuSans-5f\"/>\n      <use x=\"845.462891\" xlink:href=\"#DejaVuSans-73\"/>\n      <use x=\"897.5625\" xlink:href=\"#DejaVuSans-69\"/>\n      <use x=\"925.345703\" xlink:href=\"#DejaVuSans-6c\"/>\n      <use x=\"953.128906\" xlink:href=\"#DejaVuSans-65\"/>\n      <use x=\"1014.652344\" xlink:href=\"#DejaVuSans-6e\"/>\n      <use x=\"1078.03125\" xlink:href=\"#DejaVuSans-63\"/>\n      <use x=\"1133.011719\" xlink:href=\"#DejaVuSans-65\"/>\n      <use x=\"1194.535156\" xlink:href=\"#DejaVuSans-72\"/>\n     </g>\n    </g>\n    <g id=\"patch_40\">\n     <path d=\"M 281.232031 38.754687 \nL 301.232031 38.754687 \nL 301.232031 31.754687 \nL 281.232031 31.754687 \nz\n\" style=\"fill:#1f77b4;fill-opacity:0.5;\"/>\n    </g>\n    <g id=\"text_18\">\n     <!-- NO -->\n     <g transform=\"translate(309.232031 38.754687)scale(0.1 -0.1)\">\n      <defs>\n       <path d=\"M 628 4666 \nL 1478 4666 \nL 3547 763 \nL 3547 4666 \nL 4159 4666 \nL 4159 0 \nL 3309 0 \nL 1241 3903 \nL 1241 0 \nL 628 0 \nL 628 4666 \nz\n\" id=\"DejaVuSans-4e\" transform=\"scale(0.015625)\"/>\n       <path d=\"M 2522 4238 \nQ 1834 4238 1429 3725 \nQ 1025 3213 1025 2328 \nQ 1025 1447 1429 934 \nQ 1834 422 2522 422 \nQ 3209 422 3611 934 \nQ 4013 1447 4013 2328 \nQ 4013 3213 3611 3725 \nQ 3209 4238 2522 4238 \nz\nM 2522 4750 \nQ 3503 4750 4090 4092 \nQ 4678 3434 4678 2328 \nQ 4678 1225 4090 567 \nQ 3503 -91 2522 -91 \nQ 1538 -91 948 565 \nQ 359 1222 359 2328 \nQ 359 3434 948 4092 \nQ 1538 4750 2522 4750 \nz\n\" id=\"DejaVuSans-4f\" transform=\"scale(0.015625)\"/>\n      </defs>\n      <use xlink:href=\"#DejaVuSans-4e\"/>\n      <use x=\"74.804688\" xlink:href=\"#DejaVuSans-4f\"/>\n     </g>\n    </g>\n    <g id=\"patch_41\">\n     <path d=\"M 281.232031 53.432812 \nL 301.232031 53.432812 \nL 301.232031 46.432812 \nL 281.232031 46.432812 \nz\n\" style=\"fill:#ff7f0e;fill-opacity:0.5;\"/>\n    </g>\n    <g id=\"text_19\">\n     <!-- YES -->\n     <g transform=\"translate(309.232031 53.432812)scale(0.1 -0.1)\">\n      <defs>\n       <path d=\"M -13 4666 \nL 666 4666 \nL 1959 2747 \nL 3244 4666 \nL 3922 4666 \nL 2272 2222 \nL 2272 0 \nL 1638 0 \nL 1638 2222 \nL -13 4666 \nz\n\" id=\"DejaVuSans-59\" transform=\"scale(0.015625)\"/>\n       <path d=\"M 628 4666 \nL 3578 4666 \nL 3578 4134 \nL 1259 4134 \nL 1259 2753 \nL 3481 2753 \nL 3481 2222 \nL 1259 2222 \nL 1259 531 \nL 3634 531 \nL 3634 0 \nL 628 0 \nL 628 4666 \nz\n\" id=\"DejaVuSans-45\" transform=\"scale(0.015625)\"/>\n       <path d=\"M 3425 4513 \nL 3425 3897 \nQ 3066 4069 2747 4153 \nQ 2428 4238 2131 4238 \nQ 1616 4238 1336 4038 \nQ 1056 3838 1056 3469 \nQ 1056 3159 1242 3001 \nQ 1428 2844 1947 2747 \nL 2328 2669 \nQ 3034 2534 3370 2195 \nQ 3706 1856 3706 1288 \nQ 3706 609 3251 259 \nQ 2797 -91 1919 -91 \nQ 1588 -91 1214 -16 \nQ 841 59 441 206 \nL 441 856 \nQ 825 641 1194 531 \nQ 1563 422 1919 422 \nQ 2459 422 2753 634 \nQ 3047 847 3047 1241 \nQ 3047 1584 2836 1778 \nQ 2625 1972 2144 2069 \nL 1759 2144 \nQ 1053 2284 737 2584 \nQ 422 2884 422 3419 \nQ 422 4038 858 4394 \nQ 1294 4750 2059 4750 \nQ 2388 4750 2728 4690 \nQ 3069 4631 3425 4513 \nz\n\" id=\"DejaVuSans-53\" transform=\"scale(0.015625)\"/>\n      </defs>\n      <use xlink:href=\"#DejaVuSans-59\"/>\n      <use x=\"61.083984\" xlink:href=\"#DejaVuSans-45\"/>\n      <use x=\"124.267578\" xlink:href=\"#DejaVuSans-53\"/>\n     </g>\n    </g>\n   </g>\n  </g>\n </g>\n <defs>\n  <clipPath id=\"p70cbf25dac\">\n   <rect height=\"217.44\" width=\"334.8\" x=\"40.603125\" y=\"7.2\"/>\n  </clipPath>\n </defs>\n</svg>\n",
      "image/png": "[encoded data removed]"
     },
     "metadata": {
      "needs_background": "light"
     }
    }
   ],
   "source": [
    "top = s2_df.nlargest(1000,'log2FC')\n",
    "bottom=s2_df.nsmallest(1000,'log2FC')\n",
    "sns.histplot(data=pd.concat([top,bottom]), x='log2FC', hue='MPRA_validated_silencer', stat='count', edgecolor=None)"
   ]
  },
  {
   "cell_type": "code",
   "execution_count": 4,
   "metadata": {},
   "outputs": [],
   "source": [
    "s2_df = pd.concat([top,bottom])"
   ]
  },
  {
   "source": [
    "Will first try classification (can return to log2FC later).\n",
    "- using `MPRA_validated_silencer` as label."
   ],
   "cell_type": "markdown",
   "metadata": {}
  },
  {
   "cell_type": "code",
   "execution_count": 5,
   "metadata": {},
   "outputs": [
    {
     "output_type": "execute_result",
     "data": {
      "text/plain": [
       "       chr      start        end    log2FC\n",
       "6993  chr8   36854056   36854256  1.587224\n",
       "3615  chr2   21865616   21865816  1.349605\n",
       "7364  chrX   22818536   22818736  1.153068\n",
       "5396  chr5  105657016  105657216  0.912185\n",
       "7332  chr9  129122435  129122635  0.848734\n",
       "...    ...        ...        ...       ...\n",
       "7332  chr9  129122435  129122635  0.848734\n",
       "5396  chr5  105657016  105657216  0.912185\n",
       "7364  chrX   22818536   22818736  1.153068\n",
       "3615  chr2   21865616   21865816  1.349605\n",
       "6993  chr8   36854056   36854256  1.587224\n",
       "\n",
       "[188 rows x 4 columns]"
      ],
      "text/html": "<div>\n<style scoped>\n    .dataframe tbody tr th:only-of-type {\n        vertical-align: middle;\n    }\n\n    .dataframe tbody tr th {\n        vertical-align: top;\n    }\n\n    .dataframe thead th {\n        text-align: right;\n    }\n</style>\n<table border=\"1\" class=\"dataframe\">\n  <thead>\n    <tr style=\"text-align: right;\">\n      <th></th>\n      <th>chr</th>\n      <th>start</th>\n      <th>end</th>\n      <th>log2FC</th>\n    </tr>\n  </thead>\n  <tbody>\n    <tr>\n      <th>6993</th>\n      <td>chr8</td>\n      <td>36854056</td>\n      <td>36854256</td>\n      <td>1.587224</td>\n    </tr>\n    <tr>\n      <th>3615</th>\n      <td>chr2</td>\n      <td>21865616</td>\n      <td>21865816</td>\n      <td>1.349605</td>\n    </tr>\n    <tr>\n      <th>7364</th>\n      <td>chrX</td>\n      <td>22818536</td>\n      <td>22818736</td>\n      <td>1.153068</td>\n    </tr>\n    <tr>\n      <th>5396</th>\n      <td>chr5</td>\n      <td>105657016</td>\n      <td>105657216</td>\n      <td>0.912185</td>\n    </tr>\n    <tr>\n      <th>7332</th>\n      <td>chr9</td>\n      <td>129122435</td>\n      <td>129122635</td>\n      <td>0.848734</td>\n    </tr>\n    <tr>\n      <th>...</th>\n      <td>...</td>\n      <td>...</td>\n      <td>...</td>\n      <td>...</td>\n    </tr>\n    <tr>\n      <th>7332</th>\n      <td>chr9</td>\n      <td>129122435</td>\n      <td>129122635</td>\n      <td>0.848734</td>\n    </tr>\n    <tr>\n      <th>5396</th>\n      <td>chr5</td>\n      <td>105657016</td>\n      <td>105657216</td>\n      <td>0.912185</td>\n    </tr>\n    <tr>\n      <th>7364</th>\n      <td>chrX</td>\n      <td>22818536</td>\n      <td>22818736</td>\n      <td>1.153068</td>\n    </tr>\n    <tr>\n      <th>3615</th>\n      <td>chr2</td>\n      <td>21865616</td>\n      <td>21865816</td>\n      <td>1.349605</td>\n    </tr>\n    <tr>\n      <th>6993</th>\n      <td>chr8</td>\n      <td>36854056</td>\n      <td>36854256</td>\n      <td>1.587224</td>\n    </tr>\n  </tbody>\n</table>\n<p>188 rows × 4 columns</p>\n</div>"
     },
     "metadata": {},
     "execution_count": 5
    }
   ],
   "source": [
    "s2_df = s2_df.drop(set(s2_df.columns) - set(['chr', 'start','end', 'log2FC']),axis=1)\n",
    "s2_df"
   ]
  },
  {
   "cell_type": "code",
   "execution_count": 6,
   "metadata": {},
   "outputs": [],
   "source": [
    "from tqdm.notebook import tqdm_notebook\n",
    "import pybedtools"
   ]
  },
  {
   "source": [
    "Now, generating sequences from BED columns..."
   ],
   "cell_type": "markdown",
   "metadata": {}
  },
  {
   "cell_type": "code",
   "execution_count": 7,
   "metadata": {},
   "outputs": [
    {
     "output_type": "display_data",
     "data": {
      "text/plain": "Generating sequences...:   0%|          | 0/188 [00:00<?, ?it/s]",
      "application/vnd.jupyter.widget-view+json": {
       "version_major": 2,
       "version_minor": 0,
       "model_id": "9027c57156a044cfa160545204265a24"
      }
     },
     "metadata": {}
    },
    {
     "output_type": "execute_result",
     "data": {
      "text/plain": [
       "       chr      start        end    log2FC  \\\n",
       "6993  chr8   36854056   36854256  1.587224   \n",
       "3615  chr2   21865616   21865816  1.349605   \n",
       "7364  chrX   22818536   22818736  1.153068   \n",
       "5396  chr5  105657016  105657216  0.912185   \n",
       "7332  chr9  129122435  129122635  0.848734   \n",
       "...    ...        ...        ...       ...   \n",
       "7332  chr9  129122435  129122635  0.848734   \n",
       "5396  chr5  105657016  105657216  0.912185   \n",
       "7364  chrX   22818536   22818736  1.153068   \n",
       "3615  chr2   21865616   21865816  1.349605   \n",
       "6993  chr8   36854056   36854256  1.587224   \n",
       "\n",
       "                                                    seq  \n",
       "6993  AATGAAAAATAAGCAAAACAGAGAAAAATACTTTCTCACTAATTAT...  \n",
       "3615  TCCGCTCCTGATTGGATTTCATTACTATTCATAAGACCGTGTGGTG...  \n",
       "7364  CATGTAGTAAATTACATCATtggttccaatgcttcacccttcctgg...  \n",
       "5396  ACACAGCAACACCCACATCCACACAGGCCTAGTCCTGAAGGAACGT...  \n",
       "7332  ctcttctgacatcttttttgacccataaattatttagatgtgtggt...  \n",
       "...                                                 ...  \n",
       "7332  ctcttctgacatcttttttgacccataaattatttagatgtgtggt...  \n",
       "5396  ACACAGCAACACCCACATCCACACAGGCCTAGTCCTGAAGGAACGT...  \n",
       "7364  CATGTAGTAAATTACATCATtggttccaatgcttcacccttcctgg...  \n",
       "3615  TCCGCTCCTGATTGGATTTCATTACTATTCATAAGACCGTGTGGTG...  \n",
       "6993  AATGAAAAATAAGCAAAACAGAGAAAAATACTTTCTCACTAATTAT...  \n",
       "\n",
       "[188 rows x 5 columns]"
      ],
      "text/html": "<div>\n<style scoped>\n    .dataframe tbody tr th:only-of-type {\n        vertical-align: middle;\n    }\n\n    .dataframe tbody tr th {\n        vertical-align: top;\n    }\n\n    .dataframe thead th {\n        text-align: right;\n    }\n</style>\n<table border=\"1\" class=\"dataframe\">\n  <thead>\n    <tr style=\"text-align: right;\">\n      <th></th>\n      <th>chr</th>\n      <th>start</th>\n      <th>end</th>\n      <th>log2FC</th>\n      <th>seq</th>\n    </tr>\n  </thead>\n  <tbody>\n    <tr>\n      <th>6993</th>\n      <td>chr8</td>\n      <td>36854056</td>\n      <td>36854256</td>\n      <td>1.587224</td>\n      <td>AATGAAAAATAAGCAAAACAGAGAAAAATACTTTCTCACTAATTAT...</td>\n    </tr>\n    <tr>\n      <th>3615</th>\n      <td>chr2</td>\n      <td>21865616</td>\n      <td>21865816</td>\n      <td>1.349605</td>\n      <td>TCCGCTCCTGATTGGATTTCATTACTATTCATAAGACCGTGTGGTG...</td>\n    </tr>\n    <tr>\n      <th>7364</th>\n      <td>chrX</td>\n      <td>22818536</td>\n      <td>22818736</td>\n      <td>1.153068</td>\n      <td>CATGTAGTAAATTACATCATtggttccaatgcttcacccttcctgg...</td>\n    </tr>\n    <tr>\n      <th>5396</th>\n      <td>chr5</td>\n      <td>105657016</td>\n      <td>105657216</td>\n      <td>0.912185</td>\n      <td>ACACAGCAACACCCACATCCACACAGGCCTAGTCCTGAAGGAACGT...</td>\n    </tr>\n    <tr>\n      <th>7332</th>\n      <td>chr9</td>\n      <td>129122435</td>\n      <td>129122635</td>\n      <td>0.848734</td>\n      <td>ctcttctgacatcttttttgacccataaattatttagatgtgtggt...</td>\n    </tr>\n    <tr>\n      <th>...</th>\n      <td>...</td>\n      <td>...</td>\n      <td>...</td>\n      <td>...</td>\n      <td>...</td>\n    </tr>\n    <tr>\n      <th>7332</th>\n      <td>chr9</td>\n      <td>129122435</td>\n      <td>129122635</td>\n      <td>0.848734</td>\n      <td>ctcttctgacatcttttttgacccataaattatttagatgtgtggt...</td>\n    </tr>\n    <tr>\n      <th>5396</th>\n      <td>chr5</td>\n      <td>105657016</td>\n      <td>105657216</td>\n      <td>0.912185</td>\n      <td>ACACAGCAACACCCACATCCACACAGGCCTAGTCCTGAAGGAACGT...</td>\n    </tr>\n    <tr>\n      <th>7364</th>\n      <td>chrX</td>\n      <td>22818536</td>\n      <td>22818736</td>\n      <td>1.153068</td>\n      <td>CATGTAGTAAATTACATCATtggttccaatgcttcacccttcctgg...</td>\n    </tr>\n    <tr>\n      <th>3615</th>\n      <td>chr2</td>\n      <td>21865616</td>\n      <td>21865816</td>\n      <td>1.349605</td>\n      <td>TCCGCTCCTGATTGGATTTCATTACTATTCATAAGACCGTGTGGTG...</td>\n    </tr>\n    <tr>\n      <th>6993</th>\n      <td>chr8</td>\n      <td>36854056</td>\n      <td>36854256</td>\n      <td>1.587224</td>\n      <td>AATGAAAAATAAGCAAAACAGAGAAAAATACTTTCTCACTAATTAT...</td>\n    </tr>\n  </tbody>\n</table>\n<p>188 rows × 5 columns</p>\n</div>"
     },
     "metadata": {},
     "execution_count": 7
    }
   ],
   "source": [
    "tqdm_notebook.pandas(desc='Generating sequences...')\n",
    "s2_bt=pybedtools.BedTool.from_dataframe(s2_df)\n",
    "s2_df['seq']=s2_df.progress_apply(lambda x : s2_bt.seq(loc=x,fasta='hg19.fa'), axis=1)\n",
    "s2_df"
   ]
  },
  {
   "cell_type": "code",
   "execution_count": 8,
   "metadata": {},
   "outputs": [
    {
     "output_type": "stream",
     "name": "stderr",
     "text": [
      "<ipython-input-8-ab2859db7ccd>:2: TqdmDeprecationWarning: This function will be removed in tqdm==5.0.0\nPlease use `tqdm.notebook.*` instead of `tqdm._tqdm_notebook.*`\n  from tqdm._tqdm_notebook import tqdm_notebook\n"
     ]
    }
   ],
   "source": [
    "# from motif.motif_utils import seq2kmer\n",
    "from tqdm._tqdm_notebook import tqdm_notebook\n",
    "\n",
    "def seq2kmer(seq, k):\n",
    "    \"\"\"\n",
    "    Convert original sequence to kmers\n",
    "    \n",
    "    Arguments:\n",
    "    seq -- str, original sequence.\n",
    "    k -- int, kmer of length k specified.\n",
    "    \n",
    "    Returns:\n",
    "    kmers -- str, kmers separated by space\n",
    "\n",
    "    \"\"\"\n",
    "    kmer = [seq[x:x+k] for x in range(len(seq)+1-k)]\n",
    "    kmers = \" \".join(kmer)\n",
    "    return kmers\n"
   ]
  },
  {
   "source": [
    "Now, generating 6-mers from these sequences..."
   ],
   "cell_type": "markdown",
   "metadata": {}
  },
  {
   "cell_type": "code",
   "execution_count": 9,
   "metadata": {},
   "outputs": [
    {
     "output_type": "display_data",
     "data": {
      "text/plain": "Generating sequences...:   0%|          | 0/188 [00:00<?, ?it/s]",
      "application/vnd.jupyter.widget-view+json": {
       "version_major": 2,
       "version_minor": 0,
       "model_id": "6b24410588d04e5fb4fe8ee95897c672"
      }
     },
     "metadata": {}
    },
    {
     "output_type": "execute_result",
     "data": {
      "text/plain": [
       "       chr      start        end    log2FC  \\\n",
       "6993  chr8   36854056   36854256  1.587224   \n",
       "3615  chr2   21865616   21865816  1.349605   \n",
       "7364  chrX   22818536   22818736  1.153068   \n",
       "5396  chr5  105657016  105657216  0.912185   \n",
       "7332  chr9  129122435  129122635  0.848734   \n",
       "...    ...        ...        ...       ...   \n",
       "7332  chr9  129122435  129122635  0.848734   \n",
       "5396  chr5  105657016  105657216  0.912185   \n",
       "7364  chrX   22818536   22818736  1.153068   \n",
       "3615  chr2   21865616   21865816  1.349605   \n",
       "6993  chr8   36854056   36854256  1.587224   \n",
       "\n",
       "                                                    seq  \\\n",
       "6993  AATGAAAAATAAGCAAAACAGAGAAAAATACTTTCTCACTAATTAT...   \n",
       "3615  TCCGCTCCTGATTGGATTTCATTACTATTCATAAGACCGTGTGGTG...   \n",
       "7364  CATGTAGTAAATTACATCATtggttccaatgcttcacccttcctgg...   \n",
       "5396  ACACAGCAACACCCACATCCACACAGGCCTAGTCCTGAAGGAACGT...   \n",
       "7332  ctcttctgacatcttttttgacccataaattatttagatgtgtggt...   \n",
       "...                                                 ...   \n",
       "7332  ctcttctgacatcttttttgacccataaattatttagatgtgtggt...   \n",
       "5396  ACACAGCAACACCCACATCCACACAGGCCTAGTCCTGAAGGAACGT...   \n",
       "7364  CATGTAGTAAATTACATCATtggttccaatgcttcacccttcctgg...   \n",
       "3615  TCCGCTCCTGATTGGATTTCATTACTATTCATAAGACCGTGTGGTG...   \n",
       "6993  AATGAAAAATAAGCAAAACAGAGAAAAATACTTTCTCACTAATTAT...   \n",
       "\n",
       "                                                      X  \n",
       "6993  AATGAA ATGAAA TGAAAA GAAAAA AAAAAT AAAATA AAAT...  \n",
       "3615  TCCGCT CCGCTC CGCTCC GCTCCT CTCCTG TCCTGA CCTG...  \n",
       "7364  CATGTA ATGTAG TGTAGT GTAGTA TAGTAA AGTAAA GTAA...  \n",
       "5396  ACACAG CACAGC ACAGCA CAGCAA AGCAAC GCAACA CAAC...  \n",
       "7332  ctcttc tcttct cttctg ttctga tctgac ctgaca tgac...  \n",
       "...                                                 ...  \n",
       "7332  ctcttc tcttct cttctg ttctga tctgac ctgaca tgac...  \n",
       "5396  ACACAG CACAGC ACAGCA CAGCAA AGCAAC GCAACA CAAC...  \n",
       "7364  CATGTA ATGTAG TGTAGT GTAGTA TAGTAA AGTAAA GTAA...  \n",
       "3615  TCCGCT CCGCTC CGCTCC GCTCCT CTCCTG TCCTGA CCTG...  \n",
       "6993  AATGAA ATGAAA TGAAAA GAAAAA AAAAAT AAAATA AAAT...  \n",
       "\n",
       "[188 rows x 6 columns]"
      ],
      "text/html": "<div>\n<style scoped>\n    .dataframe tbody tr th:only-of-type {\n        vertical-align: middle;\n    }\n\n    .dataframe tbody tr th {\n        vertical-align: top;\n    }\n\n    .dataframe thead th {\n        text-align: right;\n    }\n</style>\n<table border=\"1\" class=\"dataframe\">\n  <thead>\n    <tr style=\"text-align: right;\">\n      <th></th>\n      <th>chr</th>\n      <th>start</th>\n      <th>end</th>\n      <th>log2FC</th>\n      <th>seq</th>\n      <th>X</th>\n    </tr>\n  </thead>\n  <tbody>\n    <tr>\n      <th>6993</th>\n      <td>chr8</td>\n      <td>36854056</td>\n      <td>36854256</td>\n      <td>1.587224</td>\n      <td>AATGAAAAATAAGCAAAACAGAGAAAAATACTTTCTCACTAATTAT...</td>\n      <td>AATGAA ATGAAA TGAAAA GAAAAA AAAAAT AAAATA AAAT...</td>\n    </tr>\n    <tr>\n      <th>3615</th>\n      <td>chr2</td>\n      <td>21865616</td>\n      <td>21865816</td>\n      <td>1.349605</td>\n      <td>TCCGCTCCTGATTGGATTTCATTACTATTCATAAGACCGTGTGGTG...</td>\n      <td>TCCGCT CCGCTC CGCTCC GCTCCT CTCCTG TCCTGA CCTG...</td>\n    </tr>\n    <tr>\n      <th>7364</th>\n      <td>chrX</td>\n      <td>22818536</td>\n      <td>22818736</td>\n      <td>1.153068</td>\n      <td>CATGTAGTAAATTACATCATtggttccaatgcttcacccttcctgg...</td>\n      <td>CATGTA ATGTAG TGTAGT GTAGTA TAGTAA AGTAAA GTAA...</td>\n    </tr>\n    <tr>\n      <th>5396</th>\n      <td>chr5</td>\n      <td>105657016</td>\n      <td>105657216</td>\n      <td>0.912185</td>\n      <td>ACACAGCAACACCCACATCCACACAGGCCTAGTCCTGAAGGAACGT...</td>\n      <td>ACACAG CACAGC ACAGCA CAGCAA AGCAAC GCAACA CAAC...</td>\n    </tr>\n    <tr>\n      <th>7332</th>\n      <td>chr9</td>\n      <td>129122435</td>\n      <td>129122635</td>\n      <td>0.848734</td>\n      <td>ctcttctgacatcttttttgacccataaattatttagatgtgtggt...</td>\n      <td>ctcttc tcttct cttctg ttctga tctgac ctgaca tgac...</td>\n    </tr>\n    <tr>\n      <th>...</th>\n      <td>...</td>\n      <td>...</td>\n      <td>...</td>\n      <td>...</td>\n      <td>...</td>\n      <td>...</td>\n    </tr>\n    <tr>\n      <th>7332</th>\n      <td>chr9</td>\n      <td>129122435</td>\n      <td>129122635</td>\n      <td>0.848734</td>\n      <td>ctcttctgacatcttttttgacccataaattatttagatgtgtggt...</td>\n      <td>ctcttc tcttct cttctg ttctga tctgac ctgaca tgac...</td>\n    </tr>\n    <tr>\n      <th>5396</th>\n      <td>chr5</td>\n      <td>105657016</td>\n      <td>105657216</td>\n      <td>0.912185</td>\n      <td>ACACAGCAACACCCACATCCACACAGGCCTAGTCCTGAAGGAACGT...</td>\n      <td>ACACAG CACAGC ACAGCA CAGCAA AGCAAC GCAACA CAAC...</td>\n    </tr>\n    <tr>\n      <th>7364</th>\n      <td>chrX</td>\n      <td>22818536</td>\n      <td>22818736</td>\n      <td>1.153068</td>\n      <td>CATGTAGTAAATTACATCATtggttccaatgcttcacccttcctgg...</td>\n      <td>CATGTA ATGTAG TGTAGT GTAGTA TAGTAA AGTAAA GTAA...</td>\n    </tr>\n    <tr>\n      <th>3615</th>\n      <td>chr2</td>\n      <td>21865616</td>\n      <td>21865816</td>\n      <td>1.349605</td>\n      <td>TCCGCTCCTGATTGGATTTCATTACTATTCATAAGACCGTGTGGTG...</td>\n      <td>TCCGCT CCGCTC CGCTCC GCTCCT CTCCTG TCCTGA CCTG...</td>\n    </tr>\n    <tr>\n      <th>6993</th>\n      <td>chr8</td>\n      <td>36854056</td>\n      <td>36854256</td>\n      <td>1.587224</td>\n      <td>AATGAAAAATAAGCAAAACAGAGAAAAATACTTTCTCACTAATTAT...</td>\n      <td>AATGAA ATGAAA TGAAAA GAAAAA AAAAAT AAAATA AAAT...</td>\n    </tr>\n  </tbody>\n</table>\n<p>188 rows × 6 columns</p>\n</div>"
     },
     "metadata": {},
     "execution_count": 9
    }
   ],
   "source": [
    "s2_df['X']= s2_df.progress_apply(lambda row: seq2kmer(row['seq'],6),axis=1)\n",
    "s2_df"
   ]
  },
  {
   "source": [
    "Subsetting dev and train datasets..."
   ],
   "cell_type": "markdown",
   "metadata": {}
  },
  {
   "cell_type": "code",
   "execution_count": 10,
   "metadata": {},
   "outputs": [],
   "source": [
    "from sklearn.model_selection import train_test_split\n",
    "data = s2_df[['X','log2FC']].rename(columns={'X':'sequence','log2FC':'label'})\n",
    "train, dev = train_test_split(data, test_size=0.2)\n",
    "train.to_csv('data/jayavulu/train.tsv', sep = '\\t', index=False)\n",
    "dev.to_csv('data/jayavulu/dev.tsv', sep = '\\t', index=False)"
   ]
  },
  {
   "cell_type": "code",
   "execution_count": 11,
   "metadata": {},
   "outputs": [
    {
     "output_type": "execute_result",
     "data": {
      "text/plain": [
       "6993    200\n",
       "3615    200\n",
       "7364    200\n",
       "5396    200\n",
       "7332    200\n",
       "       ... \n",
       "7332    200\n",
       "5396    200\n",
       "7364    200\n",
       "3615    200\n",
       "6993    200\n",
       "Name: seq, Length: 188, dtype: int64"
      ]
     },
     "metadata": {},
     "execution_count": 11
    }
   ],
   "source": [
    "s2_df.seq.str.len()"
   ]
  },
  {
   "source": [
    "Now, can run fine-tuning process..."
   ],
   "cell_type": "markdown",
   "metadata": {}
  },
  {
   "source": [
    "***We collected the uncharacterized cis-regulatory elements (CREs) in K562 cells with MPRA provided by Jayavelu et al. Then we chose the top 2000 uncharacterized CREs sequences with the lowest MPRA activity as a positive set, and the bottom 2000 uncharacterized CREs with highest MPRA activity as a negative set.***\n",
    "\n",
    "- ok for classification. but can directly perform regression (?)."
   ],
   "cell_type": "markdown",
   "metadata": {}
  },
  {
   "source": [
    "### TEST DATA:"
   ],
   "cell_type": "markdown",
   "metadata": {}
  },
  {
   "cell_type": "code",
   "execution_count": 12,
   "metadata": {},
   "outputs": [],
   "source": [
    "# encode_hg19_df = pd.read_csv('data/jayavulu/Candidate_silencers_and_uncharacterized_CREs_human_hg19_ENCODE_cell_types.txt',sep='\\t')\n",
    "# encode_hg19_df"
   ]
  },
  {
   "cell_type": "code",
   "execution_count": 13,
   "metadata": {},
   "outputs": [],
   "source": [
    "# roadmap_hg19_df = pd.read_csv('data/jayavulu/Candidate_silencers_and_uncharacterized_CREs_human_hg19_roadmap_cell_types.txt',sep='\\t')\n",
    "# roadmap_hg19_df"
   ]
  },
  {
   "cell_type": "code",
   "execution_count": 14,
   "metadata": {},
   "outputs": [],
   "source": [
    "# hg_19_merged_df = pd.concat([roadmap_hg19_df,encode_hg19_df])\n",
    "# hg_19_merged_df=hg_19_merged_df.reset_index(drop=True).drop('peakid',axis=1)\n",
    "# hg_19_merged_df"
   ]
  },
  {
   "cell_type": "code",
   "execution_count": 15,
   "metadata": {},
   "outputs": [],
   "source": [
    "import argparse\n",
    "import glob\n",
    "import json\n",
    "import logging\n",
    "import os\n",
    "import re\n",
    "import shutil\n",
    "import random\n",
    "from multiprocessing import Pool\n",
    "from typing import Dict, List, Tuple\n",
    "from copy import deepcopy\n",
    "\n",
    "import numpy as np\n",
    "import torch\n",
    "from torch.utils.data import DataLoader, RandomSampler, SequentialSampler, TensorDataset\n",
    "from torch.utils.data.distributed import DistributedSampler\n",
    "from tqdm import tqdm, trange\n",
    "\n",
    "from src.transformers import (\n",
    "    WEIGHTS_NAME,\n",
    "    AdamW,\n",
    "    AlbertConfig,\n",
    "    AlbertForSequenceClassification,\n",
    "    AlbertTokenizer,\n",
    "    BertConfig,\n",
    "    BertForSequenceClassification,\n",
    "    BertForLongSequenceClassification,\n",
    "    BertForLongSequenceClassificationCat,\n",
    "    BertTokenizer,\n",
    "    DNATokenizer,\n",
    "    DistilBertConfig,\n",
    "    DistilBertForSequenceClassification,\n",
    "    DistilBertTokenizer,\n",
    "    FlaubertConfig,\n",
    "    FlaubertForSequenceClassification,\n",
    "    FlaubertTokenizer,\n",
    "    RobertaConfig,\n",
    "    RobertaForSequenceClassification,\n",
    "    RobertaTokenizer,\n",
    "    XLMConfig,\n",
    "    XLMForSequenceClassification,\n",
    "    XLMRobertaConfig,\n",
    "    XLMRobertaForSequenceClassification,\n",
    "    XLMRobertaTokenizer,\n",
    "    XLMTokenizer,\n",
    "    XLNetConfig,\n",
    "    XLNetForSequenceClassification,\n",
    "    XLNetTokenizer,\n",
    "    get_linear_schedule_with_warmup,\n",
    ")\n",
    "from transformers import glue_compute_metrics as compute_metrics\n",
    "from transformers import glue_convert_examples_to_features as convert_examples_to_features\n",
    "from transformers import glue_output_modes as output_modes\n",
    "from transformers import glue_processors as processors\n",
    "\n",
    "\n",
    "try:\n",
    "    from torch.utils.tensorboard import SummaryWriter\n",
    "except ImportError:\n",
    "    from tensorboardX import SummaryWriter\n",
    "\n",
    "\n",
    "logger = logging.getLogger(__name__)\n",
    "\n",
    "ALL_MODELS = sum(\n",
    "    (\n",
    "        tuple(conf.pretrained_config_archive_map.keys())\n",
    "        for conf in (\n",
    "            BertConfig,\n",
    "            XLNetConfig,\n",
    "            XLMConfig,\n",
    "            RobertaConfig,\n",
    "            DistilBertConfig,\n",
    "            AlbertConfig,\n",
    "            XLMRobertaConfig,\n",
    "            FlaubertConfig,\n",
    "        )\n",
    "    ),\n",
    "    (),\n",
    ")\n",
    "\n",
    "MODEL_CLASSES = {\n",
    "    \"dna\": (BertConfig, BertForSequenceClassification, DNATokenizer),\n",
    "    \"dnalong\": (BertConfig, BertForLongSequenceClassification, DNATokenizer),\n",
    "    \"dnalongcat\": (BertConfig, BertForLongSequenceClassificationCat, DNATokenizer),\n",
    "    \"bert\": (BertConfig, BertForSequenceClassification, BertTokenizer),\n",
    "    \"xlnet\": (XLNetConfig, XLNetForSequenceClassification, XLNetTokenizer),\n",
    "    \"xlm\": (XLMConfig, XLMForSequenceClassification, XLMTokenizer),\n",
    "    \"roberta\": (RobertaConfig, RobertaForSequenceClassification, RobertaTokenizer),\n",
    "    \"distilbert\": (DistilBertConfig, DistilBertForSequenceClassification, DistilBertTokenizer),\n",
    "    \"albert\": (AlbertConfig, AlbertForSequenceClassification, AlbertTokenizer),\n",
    "    \"xlmroberta\": (XLMRobertaConfig, XLMRobertaForSequenceClassification, XLMRobertaTokenizer),\n",
    "    \"flaubert\": (FlaubertConfig, FlaubertForSequenceClassification, FlaubertTokenizer),\n",
    "}\n",
    "                    \n",
    "TOKEN_ID_GROUP = [\"bert\", \"dnalong\", \"dnalongcat\", \"xlnet\", \"albert\"] "
   ]
  },
  {
   "cell_type": "code",
   "execution_count": 16,
   "metadata": {},
   "outputs": [
    {
     "output_type": "stream",
     "name": "stderr",
     "text": [
      "2021-06-24 10:20:20.797 | INFO     | __main__:<module>:8 - finish loading model\n"
     ]
    }
   ],
   "source": [
    "from loguru import logger\n",
    "\n",
    "model = BertForSequenceClassification.from_pretrained(\n",
    "    'dnaBERT_pretrained_models/6-new-12w-0_regression',\n",
    "\n",
    ")\n",
    "\n",
    "logger.info('finish loading model')\n"
   ]
  },
  {
   "cell_type": "code",
   "execution_count": 17,
   "metadata": {},
   "outputs": [],
   "source": [
    "model.config.num_labels = 1\n",
    "model.config.problem_type='regression'\n",
    "model.classifier.out_features=1"
   ]
  },
  {
   "cell_type": "code",
   "execution_count": null,
   "metadata": {},
   "outputs": [],
   "source": []
  },
  {
   "cell_type": "code",
   "execution_count": 18,
   "metadata": {},
   "outputs": [
    {
     "output_type": "error",
     "ename": "ValueError",
     "evalue": "You have to specify either input_ids or inputs_embeds",
     "traceback": [
      "\u001b[0;31m---------------------------------------------------------------------------\u001b[0m",
      "\u001b[0;31mValueError\u001b[0m                                Traceback (most recent call last)",
      "\u001b[0;32m<ipython-input-18-b4a9e4c101cb>\u001b[0m in \u001b[0;36m<module>\u001b[0;34m\u001b[0m\n\u001b[0;32m----> 1\u001b[0;31m \u001b[0mmodel\u001b[0m\u001b[0;34m.\u001b[0m\u001b[0mforward\u001b[0m\u001b[0;34m(\u001b[0m\u001b[0;34m)\u001b[0m\u001b[0;34m\u001b[0m\u001b[0;34m\u001b[0m\u001b[0m\n\u001b[0m",
      "\u001b[0;32m~/github/DNABERT/src/transformers/modeling_bert.py\u001b[0m in \u001b[0;36mforward\u001b[0;34m(self, input_ids, attention_mask, token_type_ids, position_ids, head_mask, inputs_embeds, labels)\u001b[0m\n\u001b[1;32m   1179\u001b[0m         \"\"\"\n\u001b[1;32m   1180\u001b[0m \u001b[0;34m\u001b[0m\u001b[0m\n\u001b[0;32m-> 1181\u001b[0;31m         outputs = self.bert(\n\u001b[0m\u001b[1;32m   1182\u001b[0m             \u001b[0minput_ids\u001b[0m\u001b[0;34m,\u001b[0m\u001b[0;34m\u001b[0m\u001b[0;34m\u001b[0m\u001b[0m\n\u001b[1;32m   1183\u001b[0m             \u001b[0mattention_mask\u001b[0m\u001b[0;34m=\u001b[0m\u001b[0mattention_mask\u001b[0m\u001b[0;34m,\u001b[0m\u001b[0;34m\u001b[0m\u001b[0;34m\u001b[0m\u001b[0m\n",
      "\u001b[0;32m/opt/anaconda3/envs/deepenv/lib/python3.9/site-packages/torch/nn/modules/module.py\u001b[0m in \u001b[0;36m_call_impl\u001b[0;34m(self, *input, **kwargs)\u001b[0m\n\u001b[1;32m    887\u001b[0m             \u001b[0mresult\u001b[0m \u001b[0;34m=\u001b[0m \u001b[0mself\u001b[0m\u001b[0;34m.\u001b[0m\u001b[0m_slow_forward\u001b[0m\u001b[0;34m(\u001b[0m\u001b[0;34m*\u001b[0m\u001b[0minput\u001b[0m\u001b[0;34m,\u001b[0m \u001b[0;34m**\u001b[0m\u001b[0mkwargs\u001b[0m\u001b[0;34m)\u001b[0m\u001b[0;34m\u001b[0m\u001b[0;34m\u001b[0m\u001b[0m\n\u001b[1;32m    888\u001b[0m         \u001b[0;32melse\u001b[0m\u001b[0;34m:\u001b[0m\u001b[0;34m\u001b[0m\u001b[0;34m\u001b[0m\u001b[0m\n\u001b[0;32m--> 889\u001b[0;31m             \u001b[0mresult\u001b[0m \u001b[0;34m=\u001b[0m \u001b[0mself\u001b[0m\u001b[0;34m.\u001b[0m\u001b[0mforward\u001b[0m\u001b[0;34m(\u001b[0m\u001b[0;34m*\u001b[0m\u001b[0minput\u001b[0m\u001b[0;34m,\u001b[0m \u001b[0;34m**\u001b[0m\u001b[0mkwargs\u001b[0m\u001b[0;34m)\u001b[0m\u001b[0;34m\u001b[0m\u001b[0;34m\u001b[0m\u001b[0m\n\u001b[0m\u001b[1;32m    890\u001b[0m         for hook in itertools.chain(\n\u001b[1;32m    891\u001b[0m                 \u001b[0m_global_forward_hooks\u001b[0m\u001b[0;34m.\u001b[0m\u001b[0mvalues\u001b[0m\u001b[0;34m(\u001b[0m\u001b[0;34m)\u001b[0m\u001b[0;34m,\u001b[0m\u001b[0;34m\u001b[0m\u001b[0;34m\u001b[0m\u001b[0m\n",
      "\u001b[0;32m~/github/DNABERT/src/transformers/modeling_bert.py\u001b[0m in \u001b[0;36mforward\u001b[0;34m(self, input_ids, attention_mask, token_type_ids, position_ids, head_mask, inputs_embeds, encoder_hidden_states, encoder_attention_mask)\u001b[0m\n\u001b[1;32m    704\u001b[0m             \u001b[0minput_shape\u001b[0m \u001b[0;34m=\u001b[0m \u001b[0minputs_embeds\u001b[0m\u001b[0;34m.\u001b[0m\u001b[0msize\u001b[0m\u001b[0;34m(\u001b[0m\u001b[0;34m)\u001b[0m\u001b[0;34m[\u001b[0m\u001b[0;34m:\u001b[0m\u001b[0;34m-\u001b[0m\u001b[0;36m1\u001b[0m\u001b[0;34m]\u001b[0m\u001b[0;34m\u001b[0m\u001b[0;34m\u001b[0m\u001b[0m\n\u001b[1;32m    705\u001b[0m         \u001b[0;32melse\u001b[0m\u001b[0;34m:\u001b[0m\u001b[0;34m\u001b[0m\u001b[0;34m\u001b[0m\u001b[0m\n\u001b[0;32m--> 706\u001b[0;31m             \u001b[0;32mraise\u001b[0m \u001b[0mValueError\u001b[0m\u001b[0;34m(\u001b[0m\u001b[0;34m\"You have to specify either input_ids or inputs_embeds\"\u001b[0m\u001b[0;34m)\u001b[0m\u001b[0;34m\u001b[0m\u001b[0;34m\u001b[0m\u001b[0m\n\u001b[0m\u001b[1;32m    707\u001b[0m \u001b[0;34m\u001b[0m\u001b[0m\n\u001b[1;32m    708\u001b[0m         \u001b[0mdevice\u001b[0m \u001b[0;34m=\u001b[0m \u001b[0minput_ids\u001b[0m\u001b[0;34m.\u001b[0m\u001b[0mdevice\u001b[0m \u001b[0;32mif\u001b[0m \u001b[0minput_ids\u001b[0m \u001b[0;32mis\u001b[0m \u001b[0;32mnot\u001b[0m \u001b[0;32mNone\u001b[0m \u001b[0;32melse\u001b[0m \u001b[0minputs_embeds\u001b[0m\u001b[0;34m.\u001b[0m\u001b[0mdevice\u001b[0m\u001b[0;34m\u001b[0m\u001b[0;34m\u001b[0m\u001b[0m\n",
      "\u001b[0;31mValueError\u001b[0m: You have to specify either input_ids or inputs_embeds"
     ]
    }
   ],
   "source": [
    "model.forward()"
   ]
  },
  {
   "cell_type": "code",
   "execution_count": null,
   "metadata": {},
   "outputs": [],
   "source": []
  }
 ]
}